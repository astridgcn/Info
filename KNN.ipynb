{
  "nbformat": 4,
  "nbformat_minor": 0,
  "metadata": {
    "colab": {
      "provenance": []
    },
    "kernelspec": {
      "name": "python3",
      "display_name": "Python 3"
    },
    "language_info": {
      "name": "python"
    }
  },
  "cells": [
    {
      "cell_type": "markdown",
      "source": [
        "# Chargement \n",
        "### Librairies"
      ],
      "metadata": {
        "id": "mVgSGfKxino3"
      }
    },
    {
      "cell_type": "code",
      "execution_count": null,
      "metadata": {
        "id": "Ohxy1Oz0iMdC"
      },
      "outputs": [],
      "source": [
        "import numpy as np\n",
        "import pandas as pd\n",
        "import math\n",
        "from math import sqrt\n",
        "import random\n",
        "from pandas import read_csv\n",
        "from scipy.spatial.distance import euclidean"
      ]
    },
    {
      "cell_type": "markdown",
      "source": [
        "### Jeu de données"
      ],
      "metadata": {
        "id": "9gBhxRffizK2"
      }
    },
    {
      "cell_type": "code",
      "source": [
        "got = pd.read_csv('https://raw.githubusercontent.com/astridgcn/Info/main/got.csv', header = 0, index_col = 0, sep= ';', decimal = '.')\n",
        "got"
      ],
      "metadata": {
        "id": "YF6GJfdSiylY",
        "colab": {
          "base_uri": "https://localhost:8080/",
          "height": 450
        },
        "outputId": "0bf9e508-109c-4c30-8efd-8947473df2cd"
      },
      "execution_count": null,
      "outputs": [
        {
          "output_type": "execute_result",
          "data": {
            "text/plain": [
              "                              name  male      culture            house  book1  \\\n",
              "S.No                                                                            \n",
              "1                       Arya Stark     0     Northmen      House Stark      1   \n",
              "2                  Barristan Selmy     1     Westeros      House Selmy      1   \n",
              "3                       Bran Stark     1     Northmen      House Stark      1   \n",
              "4                 Cersei Lannister     0  Westerlands  House Lannister      1   \n",
              "5               Daenerys Targaryen     0     Valyrian  House Targaryen      1   \n",
              "...                            ...   ...          ...              ...    ...   \n",
              "251   Walder Frey (son of Merrett)     1          NaN       House Frey      0   \n",
              "250     Walder Frey (son of Ryman)     1     Rivermen       House Frey      0   \n",
              "261                           Wate     0          NaN  House Targaryen      0   \n",
              "24                          Willum     1          NaN              NaN      1   \n",
              "39                          Yorkel     0          NaN  House Targaryen      0   \n",
              "\n",
              "      book2  book3  book4  book5  isMarried  isNoble  numDeadRelations  \\\n",
              "S.No                                                                     \n",
              "1         1      1      1      1          0        1                 8   \n",
              "2         1      1      1      1          0        1                 0   \n",
              "3         1      1      1      1          0        1                 7   \n",
              "4         1      1      1      1          1        1                 9   \n",
              "5         1      1      1      1          1        1                15   \n",
              "...     ...    ...    ...    ...        ...      ...               ...   \n",
              "251       0      0      0      0          0        0                 0   \n",
              "250       0      0      0      0          0        0                 0   \n",
              "261       0      0      0      0          0        0                 0   \n",
              "24        0      0      0      0          0        1                 0   \n",
              "39        0      0      0      0          0        0                 0   \n",
              "\n",
              "      popularity  isAlive  \n",
              "S.No                       \n",
              "1            1.0        1  \n",
              "2            1.0        1  \n",
              "3            1.0        1  \n",
              "4            1.0        1  \n",
              "5            1.0        1  \n",
              "...          ...      ...  \n",
              "251          0.0        0  \n",
              "250          0.0        1  \n",
              "261          0.0        1  \n",
              "24           0.0        1  \n",
              "39           0.0        1  \n",
              "\n",
              "[1937 rows x 14 columns]"
            ],
            "text/html": [
              "\n",
              "  <div id=\"df-edcdb935-8e1c-4d2a-bccb-b85d2cb4db4f\">\n",
              "    <div class=\"colab-df-container\">\n",
              "      <div>\n",
              "<style scoped>\n",
              "    .dataframe tbody tr th:only-of-type {\n",
              "        vertical-align: middle;\n",
              "    }\n",
              "\n",
              "    .dataframe tbody tr th {\n",
              "        vertical-align: top;\n",
              "    }\n",
              "\n",
              "    .dataframe thead th {\n",
              "        text-align: right;\n",
              "    }\n",
              "</style>\n",
              "<table border=\"1\" class=\"dataframe\">\n",
              "  <thead>\n",
              "    <tr style=\"text-align: right;\">\n",
              "      <th></th>\n",
              "      <th>name</th>\n",
              "      <th>male</th>\n",
              "      <th>culture</th>\n",
              "      <th>house</th>\n",
              "      <th>book1</th>\n",
              "      <th>book2</th>\n",
              "      <th>book3</th>\n",
              "      <th>book4</th>\n",
              "      <th>book5</th>\n",
              "      <th>isMarried</th>\n",
              "      <th>isNoble</th>\n",
              "      <th>numDeadRelations</th>\n",
              "      <th>popularity</th>\n",
              "      <th>isAlive</th>\n",
              "    </tr>\n",
              "    <tr>\n",
              "      <th>S.No</th>\n",
              "      <th></th>\n",
              "      <th></th>\n",
              "      <th></th>\n",
              "      <th></th>\n",
              "      <th></th>\n",
              "      <th></th>\n",
              "      <th></th>\n",
              "      <th></th>\n",
              "      <th></th>\n",
              "      <th></th>\n",
              "      <th></th>\n",
              "      <th></th>\n",
              "      <th></th>\n",
              "      <th></th>\n",
              "    </tr>\n",
              "  </thead>\n",
              "  <tbody>\n",
              "    <tr>\n",
              "      <th>1</th>\n",
              "      <td>Arya Stark</td>\n",
              "      <td>0</td>\n",
              "      <td>Northmen</td>\n",
              "      <td>House Stark</td>\n",
              "      <td>1</td>\n",
              "      <td>1</td>\n",
              "      <td>1</td>\n",
              "      <td>1</td>\n",
              "      <td>1</td>\n",
              "      <td>0</td>\n",
              "      <td>1</td>\n",
              "      <td>8</td>\n",
              "      <td>1.0</td>\n",
              "      <td>1</td>\n",
              "    </tr>\n",
              "    <tr>\n",
              "      <th>2</th>\n",
              "      <td>Barristan Selmy</td>\n",
              "      <td>1</td>\n",
              "      <td>Westeros</td>\n",
              "      <td>House Selmy</td>\n",
              "      <td>1</td>\n",
              "      <td>1</td>\n",
              "      <td>1</td>\n",
              "      <td>1</td>\n",
              "      <td>1</td>\n",
              "      <td>0</td>\n",
              "      <td>1</td>\n",
              "      <td>0</td>\n",
              "      <td>1.0</td>\n",
              "      <td>1</td>\n",
              "    </tr>\n",
              "    <tr>\n",
              "      <th>3</th>\n",
              "      <td>Bran Stark</td>\n",
              "      <td>1</td>\n",
              "      <td>Northmen</td>\n",
              "      <td>House Stark</td>\n",
              "      <td>1</td>\n",
              "      <td>1</td>\n",
              "      <td>1</td>\n",
              "      <td>1</td>\n",
              "      <td>1</td>\n",
              "      <td>0</td>\n",
              "      <td>1</td>\n",
              "      <td>7</td>\n",
              "      <td>1.0</td>\n",
              "      <td>1</td>\n",
              "    </tr>\n",
              "    <tr>\n",
              "      <th>4</th>\n",
              "      <td>Cersei Lannister</td>\n",
              "      <td>0</td>\n",
              "      <td>Westerlands</td>\n",
              "      <td>House Lannister</td>\n",
              "      <td>1</td>\n",
              "      <td>1</td>\n",
              "      <td>1</td>\n",
              "      <td>1</td>\n",
              "      <td>1</td>\n",
              "      <td>1</td>\n",
              "      <td>1</td>\n",
              "      <td>9</td>\n",
              "      <td>1.0</td>\n",
              "      <td>1</td>\n",
              "    </tr>\n",
              "    <tr>\n",
              "      <th>5</th>\n",
              "      <td>Daenerys Targaryen</td>\n",
              "      <td>0</td>\n",
              "      <td>Valyrian</td>\n",
              "      <td>House Targaryen</td>\n",
              "      <td>1</td>\n",
              "      <td>1</td>\n",
              "      <td>1</td>\n",
              "      <td>1</td>\n",
              "      <td>1</td>\n",
              "      <td>1</td>\n",
              "      <td>1</td>\n",
              "      <td>15</td>\n",
              "      <td>1.0</td>\n",
              "      <td>1</td>\n",
              "    </tr>\n",
              "    <tr>\n",
              "      <th>...</th>\n",
              "      <td>...</td>\n",
              "      <td>...</td>\n",
              "      <td>...</td>\n",
              "      <td>...</td>\n",
              "      <td>...</td>\n",
              "      <td>...</td>\n",
              "      <td>...</td>\n",
              "      <td>...</td>\n",
              "      <td>...</td>\n",
              "      <td>...</td>\n",
              "      <td>...</td>\n",
              "      <td>...</td>\n",
              "      <td>...</td>\n",
              "      <td>...</td>\n",
              "    </tr>\n",
              "    <tr>\n",
              "      <th>251</th>\n",
              "      <td>Walder Frey (son of Merrett)</td>\n",
              "      <td>1</td>\n",
              "      <td>NaN</td>\n",
              "      <td>House Frey</td>\n",
              "      <td>0</td>\n",
              "      <td>0</td>\n",
              "      <td>0</td>\n",
              "      <td>0</td>\n",
              "      <td>0</td>\n",
              "      <td>0</td>\n",
              "      <td>0</td>\n",
              "      <td>0</td>\n",
              "      <td>0.0</td>\n",
              "      <td>0</td>\n",
              "    </tr>\n",
              "    <tr>\n",
              "      <th>250</th>\n",
              "      <td>Walder Frey (son of Ryman)</td>\n",
              "      <td>1</td>\n",
              "      <td>Rivermen</td>\n",
              "      <td>House Frey</td>\n",
              "      <td>0</td>\n",
              "      <td>0</td>\n",
              "      <td>0</td>\n",
              "      <td>0</td>\n",
              "      <td>0</td>\n",
              "      <td>0</td>\n",
              "      <td>0</td>\n",
              "      <td>0</td>\n",
              "      <td>0.0</td>\n",
              "      <td>1</td>\n",
              "    </tr>\n",
              "    <tr>\n",
              "      <th>261</th>\n",
              "      <td>Wate</td>\n",
              "      <td>0</td>\n",
              "      <td>NaN</td>\n",
              "      <td>House Targaryen</td>\n",
              "      <td>0</td>\n",
              "      <td>0</td>\n",
              "      <td>0</td>\n",
              "      <td>0</td>\n",
              "      <td>0</td>\n",
              "      <td>0</td>\n",
              "      <td>0</td>\n",
              "      <td>0</td>\n",
              "      <td>0.0</td>\n",
              "      <td>1</td>\n",
              "    </tr>\n",
              "    <tr>\n",
              "      <th>24</th>\n",
              "      <td>Willum</td>\n",
              "      <td>1</td>\n",
              "      <td>NaN</td>\n",
              "      <td>NaN</td>\n",
              "      <td>1</td>\n",
              "      <td>0</td>\n",
              "      <td>0</td>\n",
              "      <td>0</td>\n",
              "      <td>0</td>\n",
              "      <td>0</td>\n",
              "      <td>1</td>\n",
              "      <td>0</td>\n",
              "      <td>0.0</td>\n",
              "      <td>1</td>\n",
              "    </tr>\n",
              "    <tr>\n",
              "      <th>39</th>\n",
              "      <td>Yorkel</td>\n",
              "      <td>0</td>\n",
              "      <td>NaN</td>\n",
              "      <td>House Targaryen</td>\n",
              "      <td>0</td>\n",
              "      <td>0</td>\n",
              "      <td>0</td>\n",
              "      <td>0</td>\n",
              "      <td>0</td>\n",
              "      <td>0</td>\n",
              "      <td>0</td>\n",
              "      <td>0</td>\n",
              "      <td>0.0</td>\n",
              "      <td>1</td>\n",
              "    </tr>\n",
              "  </tbody>\n",
              "</table>\n",
              "<p>1937 rows × 14 columns</p>\n",
              "</div>\n",
              "      <button class=\"colab-df-convert\" onclick=\"convertToInteractive('df-edcdb935-8e1c-4d2a-bccb-b85d2cb4db4f')\"\n",
              "              title=\"Convert this dataframe to an interactive table.\"\n",
              "              style=\"display:none;\">\n",
              "        \n",
              "  <svg xmlns=\"http://www.w3.org/2000/svg\" height=\"24px\"viewBox=\"0 0 24 24\"\n",
              "       width=\"24px\">\n",
              "    <path d=\"M0 0h24v24H0V0z\" fill=\"none\"/>\n",
              "    <path d=\"M18.56 5.44l.94 2.06.94-2.06 2.06-.94-2.06-.94-.94-2.06-.94 2.06-2.06.94zm-11 1L8.5 8.5l.94-2.06 2.06-.94-2.06-.94L8.5 2.5l-.94 2.06-2.06.94zm10 10l.94 2.06.94-2.06 2.06-.94-2.06-.94-.94-2.06-.94 2.06-2.06.94z\"/><path d=\"M17.41 7.96l-1.37-1.37c-.4-.4-.92-.59-1.43-.59-.52 0-1.04.2-1.43.59L10.3 9.45l-7.72 7.72c-.78.78-.78 2.05 0 2.83L4 21.41c.39.39.9.59 1.41.59.51 0 1.02-.2 1.41-.59l7.78-7.78 2.81-2.81c.8-.78.8-2.07 0-2.86zM5.41 20L4 18.59l7.72-7.72 1.47 1.35L5.41 20z\"/>\n",
              "  </svg>\n",
              "      </button>\n",
              "      \n",
              "  <style>\n",
              "    .colab-df-container {\n",
              "      display:flex;\n",
              "      flex-wrap:wrap;\n",
              "      gap: 12px;\n",
              "    }\n",
              "\n",
              "    .colab-df-convert {\n",
              "      background-color: #E8F0FE;\n",
              "      border: none;\n",
              "      border-radius: 50%;\n",
              "      cursor: pointer;\n",
              "      display: none;\n",
              "      fill: #1967D2;\n",
              "      height: 32px;\n",
              "      padding: 0 0 0 0;\n",
              "      width: 32px;\n",
              "    }\n",
              "\n",
              "    .colab-df-convert:hover {\n",
              "      background-color: #E2EBFA;\n",
              "      box-shadow: 0px 1px 2px rgba(60, 64, 67, 0.3), 0px 1px 3px 1px rgba(60, 64, 67, 0.15);\n",
              "      fill: #174EA6;\n",
              "    }\n",
              "\n",
              "    [theme=dark] .colab-df-convert {\n",
              "      background-color: #3B4455;\n",
              "      fill: #D2E3FC;\n",
              "    }\n",
              "\n",
              "    [theme=dark] .colab-df-convert:hover {\n",
              "      background-color: #434B5C;\n",
              "      box-shadow: 0px 1px 3px 1px rgba(0, 0, 0, 0.15);\n",
              "      filter: drop-shadow(0px 1px 2px rgba(0, 0, 0, 0.3));\n",
              "      fill: #FFFFFF;\n",
              "    }\n",
              "  </style>\n",
              "\n",
              "      <script>\n",
              "        const buttonEl =\n",
              "          document.querySelector('#df-edcdb935-8e1c-4d2a-bccb-b85d2cb4db4f button.colab-df-convert');\n",
              "        buttonEl.style.display =\n",
              "          google.colab.kernel.accessAllowed ? 'block' : 'none';\n",
              "\n",
              "        async function convertToInteractive(key) {\n",
              "          const element = document.querySelector('#df-edcdb935-8e1c-4d2a-bccb-b85d2cb4db4f');\n",
              "          const dataTable =\n",
              "            await google.colab.kernel.invokeFunction('convertToInteractive',\n",
              "                                                     [key], {});\n",
              "          if (!dataTable) return;\n",
              "\n",
              "          const docLinkHtml = 'Like what you see? Visit the ' +\n",
              "            '<a target=\"_blank\" href=https://colab.research.google.com/notebooks/data_table.ipynb>data table notebook</a>'\n",
              "            + ' to learn more about interactive tables.';\n",
              "          element.innerHTML = '';\n",
              "          dataTable['output_type'] = 'display_data';\n",
              "          await google.colab.output.renderOutput(dataTable, element);\n",
              "          const docLink = document.createElement('div');\n",
              "          docLink.innerHTML = docLinkHtml;\n",
              "          element.appendChild(docLink);\n",
              "        }\n",
              "      </script>\n",
              "    </div>\n",
              "  </div>\n",
              "  "
            ]
          },
          "metadata": {},
          "execution_count": 2
        }
      ]
    },
    {
      "cell_type": "code",
      "source": [
        "print(got.shape) # forme des données\n",
        "print(got.dtypes) # types de données"
      ],
      "metadata": {
        "colab": {
          "base_uri": "https://localhost:8080/"
        },
        "id": "icPb1hwdi5tq",
        "outputId": "80dc58d2-650d-4229-e528-8d6dd2ce8f7d"
      },
      "execution_count": null,
      "outputs": [
        {
          "output_type": "stream",
          "name": "stdout",
          "text": [
            "(1937, 14)\n",
            "name                 object\n",
            "male                  int64\n",
            "culture              object\n",
            "house                object\n",
            "book1                 int64\n",
            "book2                 int64\n",
            "book3                 int64\n",
            "book4                 int64\n",
            "book5                 int64\n",
            "isMarried             int64\n",
            "isNoble               int64\n",
            "numDeadRelations      int64\n",
            "popularity          float64\n",
            "isAlive               int64\n",
            "dtype: object\n"
          ]
        }
      ]
    },
    {
      "cell_type": "code",
      "source": [
        "got.iloc[1,3] # test index"
      ],
      "metadata": {
        "colab": {
          "base_uri": "https://localhost:8080/",
          "height": 35
        },
        "id": "YX2IvTARi72U",
        "outputId": "790ddd34-d9e2-4fb6-de4a-be0f429410ed"
      },
      "execution_count": null,
      "outputs": [
        {
          "output_type": "execute_result",
          "data": {
            "text/plain": [
              "'House Selmy'"
            ],
            "application/vnd.google.colaboratory.intrinsic+json": {
              "type": "string"
            }
          },
          "metadata": {},
          "execution_count": 4
        }
      ]
    },
    {
      "cell_type": "markdown",
      "source": [
        "## Traitement"
      ],
      "metadata": {
        "id": "OPLhmUwfjDZd"
      }
    },
    {
      "cell_type": "markdown",
      "source": [
        "### Suppression des données manquantes"
      ],
      "metadata": {
        "id": "kPX0hP9Lk6RT"
      }
    },
    {
      "cell_type": "code",
      "source": [
        "#got.dropna()"
      ],
      "metadata": {
        "id": "4jtlOjcpi9zD"
      },
      "execution_count": null,
      "outputs": []
    },
    {
      "cell_type": "markdown",
      "source": [
        "### Sélection des données\n",
        "#### Étude des corrélations"
      ],
      "metadata": {
        "id": "FylFGaQjk2ox"
      }
    },
    {
      "cell_type": "code",
      "source": [
        "corr = got.corr(method = 'pearson')\n",
        "corr\n",
        "# Forte corr : male, book1, book4, numDeadRelations, popularity"
      ],
      "metadata": {
        "colab": {
          "base_uri": "https://localhost:8080/",
          "height": 390
        },
        "id": "F0lRr62pjB0o",
        "outputId": "ca7ab342-4b77-4ece-81d4-50dbbf52094c"
      },
      "execution_count": null,
      "outputs": [
        {
          "output_type": "execute_result",
          "data": {
            "text/plain": [
              "                      male     book1     book2     book3     book4     book5  \\\n",
              "male              1.000000  0.084993  0.061676  0.024528 -0.061519  0.063076   \n",
              "book1             0.084993  1.000000  0.390124  0.241641  0.077017  0.262576   \n",
              "book2             0.061676  0.390124  1.000000  0.448549  0.173101  0.223518   \n",
              "book3             0.024528  0.241641  0.448549  1.000000  0.370511  0.281976   \n",
              "book4            -0.061519  0.077017  0.173101  0.370511  1.000000  0.334487   \n",
              "book5             0.063076  0.262576  0.223518  0.281976  0.334487  1.000000   \n",
              "isMarried        -0.082852  0.084279  0.156528  0.148731  0.125052  0.092848   \n",
              "isNoble           0.157680  0.092913  0.020236  0.020408  0.075244  0.098406   \n",
              "numDeadRelations  0.029365  0.201701  0.086390  0.063746  0.004823  0.114055   \n",
              "popularity        0.131311  0.346472  0.273509  0.241490  0.142138  0.239003   \n",
              "isAlive          -0.143593 -0.146926 -0.068381  0.006675  0.269860  0.034009   \n",
              "\n",
              "                  isMarried   isNoble  numDeadRelations  popularity   isAlive  \n",
              "male              -0.082852  0.157680          0.029365    0.131311 -0.143593  \n",
              "book1              0.084279  0.092913          0.201701    0.346472 -0.146926  \n",
              "book2              0.156528  0.020236          0.086390    0.273509 -0.068381  \n",
              "book3              0.148731  0.020408          0.063746    0.241490  0.006675  \n",
              "book4              0.125052  0.075244          0.004823    0.142138  0.269860  \n",
              "book5              0.092848  0.098406          0.114055    0.239003  0.034009  \n",
              "isMarried          1.000000  0.162069          0.198547    0.294394 -0.044258  \n",
              "isNoble            0.162069  1.000000          0.094722    0.174041 -0.042388  \n",
              "numDeadRelations   0.198547  0.094722          1.000000    0.585918 -0.176926  \n",
              "popularity         0.294394  0.174041          0.585918    1.000000 -0.169552  \n",
              "isAlive           -0.044258 -0.042388         -0.176926   -0.169552  1.000000  "
            ],
            "text/html": [
              "\n",
              "  <div id=\"df-b26db707-9b90-4c06-a701-1b07eb11b736\">\n",
              "    <div class=\"colab-df-container\">\n",
              "      <div>\n",
              "<style scoped>\n",
              "    .dataframe tbody tr th:only-of-type {\n",
              "        vertical-align: middle;\n",
              "    }\n",
              "\n",
              "    .dataframe tbody tr th {\n",
              "        vertical-align: top;\n",
              "    }\n",
              "\n",
              "    .dataframe thead th {\n",
              "        text-align: right;\n",
              "    }\n",
              "</style>\n",
              "<table border=\"1\" class=\"dataframe\">\n",
              "  <thead>\n",
              "    <tr style=\"text-align: right;\">\n",
              "      <th></th>\n",
              "      <th>male</th>\n",
              "      <th>book1</th>\n",
              "      <th>book2</th>\n",
              "      <th>book3</th>\n",
              "      <th>book4</th>\n",
              "      <th>book5</th>\n",
              "      <th>isMarried</th>\n",
              "      <th>isNoble</th>\n",
              "      <th>numDeadRelations</th>\n",
              "      <th>popularity</th>\n",
              "      <th>isAlive</th>\n",
              "    </tr>\n",
              "  </thead>\n",
              "  <tbody>\n",
              "    <tr>\n",
              "      <th>male</th>\n",
              "      <td>1.000000</td>\n",
              "      <td>0.084993</td>\n",
              "      <td>0.061676</td>\n",
              "      <td>0.024528</td>\n",
              "      <td>-0.061519</td>\n",
              "      <td>0.063076</td>\n",
              "      <td>-0.082852</td>\n",
              "      <td>0.157680</td>\n",
              "      <td>0.029365</td>\n",
              "      <td>0.131311</td>\n",
              "      <td>-0.143593</td>\n",
              "    </tr>\n",
              "    <tr>\n",
              "      <th>book1</th>\n",
              "      <td>0.084993</td>\n",
              "      <td>1.000000</td>\n",
              "      <td>0.390124</td>\n",
              "      <td>0.241641</td>\n",
              "      <td>0.077017</td>\n",
              "      <td>0.262576</td>\n",
              "      <td>0.084279</td>\n",
              "      <td>0.092913</td>\n",
              "      <td>0.201701</td>\n",
              "      <td>0.346472</td>\n",
              "      <td>-0.146926</td>\n",
              "    </tr>\n",
              "    <tr>\n",
              "      <th>book2</th>\n",
              "      <td>0.061676</td>\n",
              "      <td>0.390124</td>\n",
              "      <td>1.000000</td>\n",
              "      <td>0.448549</td>\n",
              "      <td>0.173101</td>\n",
              "      <td>0.223518</td>\n",
              "      <td>0.156528</td>\n",
              "      <td>0.020236</td>\n",
              "      <td>0.086390</td>\n",
              "      <td>0.273509</td>\n",
              "      <td>-0.068381</td>\n",
              "    </tr>\n",
              "    <tr>\n",
              "      <th>book3</th>\n",
              "      <td>0.024528</td>\n",
              "      <td>0.241641</td>\n",
              "      <td>0.448549</td>\n",
              "      <td>1.000000</td>\n",
              "      <td>0.370511</td>\n",
              "      <td>0.281976</td>\n",
              "      <td>0.148731</td>\n",
              "      <td>0.020408</td>\n",
              "      <td>0.063746</td>\n",
              "      <td>0.241490</td>\n",
              "      <td>0.006675</td>\n",
              "    </tr>\n",
              "    <tr>\n",
              "      <th>book4</th>\n",
              "      <td>-0.061519</td>\n",
              "      <td>0.077017</td>\n",
              "      <td>0.173101</td>\n",
              "      <td>0.370511</td>\n",
              "      <td>1.000000</td>\n",
              "      <td>0.334487</td>\n",
              "      <td>0.125052</td>\n",
              "      <td>0.075244</td>\n",
              "      <td>0.004823</td>\n",
              "      <td>0.142138</td>\n",
              "      <td>0.269860</td>\n",
              "    </tr>\n",
              "    <tr>\n",
              "      <th>book5</th>\n",
              "      <td>0.063076</td>\n",
              "      <td>0.262576</td>\n",
              "      <td>0.223518</td>\n",
              "      <td>0.281976</td>\n",
              "      <td>0.334487</td>\n",
              "      <td>1.000000</td>\n",
              "      <td>0.092848</td>\n",
              "      <td>0.098406</td>\n",
              "      <td>0.114055</td>\n",
              "      <td>0.239003</td>\n",
              "      <td>0.034009</td>\n",
              "    </tr>\n",
              "    <tr>\n",
              "      <th>isMarried</th>\n",
              "      <td>-0.082852</td>\n",
              "      <td>0.084279</td>\n",
              "      <td>0.156528</td>\n",
              "      <td>0.148731</td>\n",
              "      <td>0.125052</td>\n",
              "      <td>0.092848</td>\n",
              "      <td>1.000000</td>\n",
              "      <td>0.162069</td>\n",
              "      <td>0.198547</td>\n",
              "      <td>0.294394</td>\n",
              "      <td>-0.044258</td>\n",
              "    </tr>\n",
              "    <tr>\n",
              "      <th>isNoble</th>\n",
              "      <td>0.157680</td>\n",
              "      <td>0.092913</td>\n",
              "      <td>0.020236</td>\n",
              "      <td>0.020408</td>\n",
              "      <td>0.075244</td>\n",
              "      <td>0.098406</td>\n",
              "      <td>0.162069</td>\n",
              "      <td>1.000000</td>\n",
              "      <td>0.094722</td>\n",
              "      <td>0.174041</td>\n",
              "      <td>-0.042388</td>\n",
              "    </tr>\n",
              "    <tr>\n",
              "      <th>numDeadRelations</th>\n",
              "      <td>0.029365</td>\n",
              "      <td>0.201701</td>\n",
              "      <td>0.086390</td>\n",
              "      <td>0.063746</td>\n",
              "      <td>0.004823</td>\n",
              "      <td>0.114055</td>\n",
              "      <td>0.198547</td>\n",
              "      <td>0.094722</td>\n",
              "      <td>1.000000</td>\n",
              "      <td>0.585918</td>\n",
              "      <td>-0.176926</td>\n",
              "    </tr>\n",
              "    <tr>\n",
              "      <th>popularity</th>\n",
              "      <td>0.131311</td>\n",
              "      <td>0.346472</td>\n",
              "      <td>0.273509</td>\n",
              "      <td>0.241490</td>\n",
              "      <td>0.142138</td>\n",
              "      <td>0.239003</td>\n",
              "      <td>0.294394</td>\n",
              "      <td>0.174041</td>\n",
              "      <td>0.585918</td>\n",
              "      <td>1.000000</td>\n",
              "      <td>-0.169552</td>\n",
              "    </tr>\n",
              "    <tr>\n",
              "      <th>isAlive</th>\n",
              "      <td>-0.143593</td>\n",
              "      <td>-0.146926</td>\n",
              "      <td>-0.068381</td>\n",
              "      <td>0.006675</td>\n",
              "      <td>0.269860</td>\n",
              "      <td>0.034009</td>\n",
              "      <td>-0.044258</td>\n",
              "      <td>-0.042388</td>\n",
              "      <td>-0.176926</td>\n",
              "      <td>-0.169552</td>\n",
              "      <td>1.000000</td>\n",
              "    </tr>\n",
              "  </tbody>\n",
              "</table>\n",
              "</div>\n",
              "      <button class=\"colab-df-convert\" onclick=\"convertToInteractive('df-b26db707-9b90-4c06-a701-1b07eb11b736')\"\n",
              "              title=\"Convert this dataframe to an interactive table.\"\n",
              "              style=\"display:none;\">\n",
              "        \n",
              "  <svg xmlns=\"http://www.w3.org/2000/svg\" height=\"24px\"viewBox=\"0 0 24 24\"\n",
              "       width=\"24px\">\n",
              "    <path d=\"M0 0h24v24H0V0z\" fill=\"none\"/>\n",
              "    <path d=\"M18.56 5.44l.94 2.06.94-2.06 2.06-.94-2.06-.94-.94-2.06-.94 2.06-2.06.94zm-11 1L8.5 8.5l.94-2.06 2.06-.94-2.06-.94L8.5 2.5l-.94 2.06-2.06.94zm10 10l.94 2.06.94-2.06 2.06-.94-2.06-.94-.94-2.06-.94 2.06-2.06.94z\"/><path d=\"M17.41 7.96l-1.37-1.37c-.4-.4-.92-.59-1.43-.59-.52 0-1.04.2-1.43.59L10.3 9.45l-7.72 7.72c-.78.78-.78 2.05 0 2.83L4 21.41c.39.39.9.59 1.41.59.51 0 1.02-.2 1.41-.59l7.78-7.78 2.81-2.81c.8-.78.8-2.07 0-2.86zM5.41 20L4 18.59l7.72-7.72 1.47 1.35L5.41 20z\"/>\n",
              "  </svg>\n",
              "      </button>\n",
              "      \n",
              "  <style>\n",
              "    .colab-df-container {\n",
              "      display:flex;\n",
              "      flex-wrap:wrap;\n",
              "      gap: 12px;\n",
              "    }\n",
              "\n",
              "    .colab-df-convert {\n",
              "      background-color: #E8F0FE;\n",
              "      border: none;\n",
              "      border-radius: 50%;\n",
              "      cursor: pointer;\n",
              "      display: none;\n",
              "      fill: #1967D2;\n",
              "      height: 32px;\n",
              "      padding: 0 0 0 0;\n",
              "      width: 32px;\n",
              "    }\n",
              "\n",
              "    .colab-df-convert:hover {\n",
              "      background-color: #E2EBFA;\n",
              "      box-shadow: 0px 1px 2px rgba(60, 64, 67, 0.3), 0px 1px 3px 1px rgba(60, 64, 67, 0.15);\n",
              "      fill: #174EA6;\n",
              "    }\n",
              "\n",
              "    [theme=dark] .colab-df-convert {\n",
              "      background-color: #3B4455;\n",
              "      fill: #D2E3FC;\n",
              "    }\n",
              "\n",
              "    [theme=dark] .colab-df-convert:hover {\n",
              "      background-color: #434B5C;\n",
              "      box-shadow: 0px 1px 3px 1px rgba(0, 0, 0, 0.15);\n",
              "      filter: drop-shadow(0px 1px 2px rgba(0, 0, 0, 0.3));\n",
              "      fill: #FFFFFF;\n",
              "    }\n",
              "  </style>\n",
              "\n",
              "      <script>\n",
              "        const buttonEl =\n",
              "          document.querySelector('#df-b26db707-9b90-4c06-a701-1b07eb11b736 button.colab-df-convert');\n",
              "        buttonEl.style.display =\n",
              "          google.colab.kernel.accessAllowed ? 'block' : 'none';\n",
              "\n",
              "        async function convertToInteractive(key) {\n",
              "          const element = document.querySelector('#df-b26db707-9b90-4c06-a701-1b07eb11b736');\n",
              "          const dataTable =\n",
              "            await google.colab.kernel.invokeFunction('convertToInteractive',\n",
              "                                                     [key], {});\n",
              "          if (!dataTable) return;\n",
              "\n",
              "          const docLinkHtml = 'Like what you see? Visit the ' +\n",
              "            '<a target=\"_blank\" href=https://colab.research.google.com/notebooks/data_table.ipynb>data table notebook</a>'\n",
              "            + ' to learn more about interactive tables.';\n",
              "          element.innerHTML = '';\n",
              "          dataTable['output_type'] = 'display_data';\n",
              "          await google.colab.output.renderOutput(dataTable, element);\n",
              "          const docLink = document.createElement('div');\n",
              "          docLink.innerHTML = docLinkHtml;\n",
              "          element.appendChild(docLink);\n",
              "        }\n",
              "      </script>\n",
              "    </div>\n",
              "  </div>\n",
              "  "
            ]
          },
          "metadata": {},
          "execution_count": 6
        }
      ]
    },
    {
      "cell_type": "markdown",
      "source": [
        "## Distances\n",
        "### Entre deux personnes\n",
        "#### Utilisation de la distance de Manhattan (pour les vecteurs)"
      ],
      "metadata": {
        "id": "xCZN8BGJnDA8"
      }
    },
    {
      "cell_type": "code",
      "source": [
        "def distance(prenom1, prenom2):\n",
        "  personne1 = got.loc[got['name'] == prenom1,('male', 'book1', 'book4', 'numDeadRelations', 'popularity')] # on cherche le 1er prénom\n",
        "  personne1 = personne1[['male', 'book1', 'book4', 'numDeadRelations', 'popularity']].values # on récupère les variables qui nous intéressent\n",
        "  personne2 = got.loc[got['name'] == prenom2,('male', 'book1', 'book4', 'numDeadRelations', 'popularity')] # on cherche le 2ème prénom\n",
        "  personne2 = personne2[['male', 'book1', 'book4', 'numDeadRelations', 'popularity']].values # on récupère les variables qui nous intéressent\n",
        "\n",
        "  return np.sqrt(np.sum((personne1 - personne2) ** 2)) # pour ne pas utiliser SciPy"
      ],
      "metadata": {
        "id": "YF6Ph48nq1Te"
      },
      "execution_count": null,
      "outputs": []
    },
    {
      "cell_type": "markdown",
      "source": [
        "#### Test avec exemple"
      ],
      "metadata": {
        "id": "K5oMS4fAhChk"
      }
    },
    {
      "cell_type": "code",
      "source": [
        "distance('Arya Stark', 'Tyrion Lannister')"
      ],
      "metadata": {
        "colab": {
          "base_uri": "https://localhost:8080/"
        },
        "id": "Ay6OZnzDNuLb",
        "outputId": "a76f9317-3b47-45f7-8ea1-4befae6030c6"
      },
      "execution_count": null,
      "outputs": [
        {
          "output_type": "execute_result",
          "data": {
            "text/plain": [
              "4.123105625617661"
            ]
          },
          "metadata": {},
          "execution_count": 9
        }
      ]
    },
    {
      "cell_type": "markdown",
      "source": [
        "### Entre une personne et les autres"
      ],
      "metadata": {
        "id": "606ruFu-rzl7"
      }
    },
    {
      "cell_type": "code",
      "source": [
        "def distanceall(prenom):\n",
        "  #distances = [] # liste des distances\n",
        "  distances = pd.DataFrame(columns = ['Prénom', 'Distance']) # on crée un tableau\n",
        "  for i in range(len(got)):\n",
        "    if got.iloc[i,0] != prenom : # on exclut la personne\n",
        "      prenom2 = got.iloc[i,0] # on récupère le 2ème prénom\n",
        "      dist = distance(prenom, prenom2) # on calcule la distance entre les deux \n",
        "      ligne = [prenom2, dist]\n",
        "      distances.loc[len(distances)] = ligne # on l'ajoute à notre tableau\n",
        "\n",
        "  distances.sort_values(by = ['Distance'], inplace = True) # on range le tableau par ordre croissant\n",
        "\n",
        "  return distances # on affiche la liste "
      ],
      "metadata": {
        "id": "gubkZPldW5b4"
      },
      "execution_count": null,
      "outputs": []
    },
    {
      "cell_type": "markdown",
      "source": [
        "#### Test avec exemple"
      ],
      "metadata": {
        "id": "8I3suSWjhIpK"
      }
    },
    {
      "cell_type": "code",
      "source": [
        "distanceall('Arya Stark')"
      ],
      "metadata": {
        "colab": {
          "base_uri": "https://localhost:8080/",
          "height": 419
        },
        "id": "pgfsHSO_Qne_",
        "outputId": "8cb2c780-4302-4015-d629-db97f18257dc"
      },
      "execution_count": null,
      "outputs": [
        {
          "output_type": "execute_result",
          "data": {
            "text/plain": [
              "                         Prénom   Distance\n",
              "2              Cersei Lannister   1.000000\n",
              "41                 Edmure Tully   1.057671\n",
              "56                 Rickon Stark   1.095832\n",
              "74                 Elia Martell   1.145406\n",
              "110           Rhaella Targaryen   1.208696\n",
              "...                         ...        ...\n",
              "1851  Aegon Frey (son of Aenys)   8.246211\n",
              "1887               Green Gergen   8.246211\n",
              "1900                     Lothar   8.246211\n",
              "16                Jorah Mormont  10.007703\n",
              "28                Jorah Mormont  10.007703\n",
              "\n",
              "[1936 rows x 2 columns]"
            ],
            "text/html": [
              "\n",
              "  <div id=\"df-075da3fd-0ac3-4b10-97c9-c6356c705ae3\">\n",
              "    <div class=\"colab-df-container\">\n",
              "      <div>\n",
              "<style scoped>\n",
              "    .dataframe tbody tr th:only-of-type {\n",
              "        vertical-align: middle;\n",
              "    }\n",
              "\n",
              "    .dataframe tbody tr th {\n",
              "        vertical-align: top;\n",
              "    }\n",
              "\n",
              "    .dataframe thead th {\n",
              "        text-align: right;\n",
              "    }\n",
              "</style>\n",
              "<table border=\"1\" class=\"dataframe\">\n",
              "  <thead>\n",
              "    <tr style=\"text-align: right;\">\n",
              "      <th></th>\n",
              "      <th>Prénom</th>\n",
              "      <th>Distance</th>\n",
              "    </tr>\n",
              "  </thead>\n",
              "  <tbody>\n",
              "    <tr>\n",
              "      <th>2</th>\n",
              "      <td>Cersei Lannister</td>\n",
              "      <td>1.000000</td>\n",
              "    </tr>\n",
              "    <tr>\n",
              "      <th>41</th>\n",
              "      <td>Edmure Tully</td>\n",
              "      <td>1.057671</td>\n",
              "    </tr>\n",
              "    <tr>\n",
              "      <th>56</th>\n",
              "      <td>Rickon Stark</td>\n",
              "      <td>1.095832</td>\n",
              "    </tr>\n",
              "    <tr>\n",
              "      <th>74</th>\n",
              "      <td>Elia Martell</td>\n",
              "      <td>1.145406</td>\n",
              "    </tr>\n",
              "    <tr>\n",
              "      <th>110</th>\n",
              "      <td>Rhaella Targaryen</td>\n",
              "      <td>1.208696</td>\n",
              "    </tr>\n",
              "    <tr>\n",
              "      <th>...</th>\n",
              "      <td>...</td>\n",
              "      <td>...</td>\n",
              "    </tr>\n",
              "    <tr>\n",
              "      <th>1851</th>\n",
              "      <td>Aegon Frey (son of Aenys)</td>\n",
              "      <td>8.246211</td>\n",
              "    </tr>\n",
              "    <tr>\n",
              "      <th>1887</th>\n",
              "      <td>Green Gergen</td>\n",
              "      <td>8.246211</td>\n",
              "    </tr>\n",
              "    <tr>\n",
              "      <th>1900</th>\n",
              "      <td>Lothar</td>\n",
              "      <td>8.246211</td>\n",
              "    </tr>\n",
              "    <tr>\n",
              "      <th>16</th>\n",
              "      <td>Jorah Mormont</td>\n",
              "      <td>10.007703</td>\n",
              "    </tr>\n",
              "    <tr>\n",
              "      <th>28</th>\n",
              "      <td>Jorah Mormont</td>\n",
              "      <td>10.007703</td>\n",
              "    </tr>\n",
              "  </tbody>\n",
              "</table>\n",
              "<p>1936 rows × 2 columns</p>\n",
              "</div>\n",
              "      <button class=\"colab-df-convert\" onclick=\"convertToInteractive('df-075da3fd-0ac3-4b10-97c9-c6356c705ae3')\"\n",
              "              title=\"Convert this dataframe to an interactive table.\"\n",
              "              style=\"display:none;\">\n",
              "        \n",
              "  <svg xmlns=\"http://www.w3.org/2000/svg\" height=\"24px\"viewBox=\"0 0 24 24\"\n",
              "       width=\"24px\">\n",
              "    <path d=\"M0 0h24v24H0V0z\" fill=\"none\"/>\n",
              "    <path d=\"M18.56 5.44l.94 2.06.94-2.06 2.06-.94-2.06-.94-.94-2.06-.94 2.06-2.06.94zm-11 1L8.5 8.5l.94-2.06 2.06-.94-2.06-.94L8.5 2.5l-.94 2.06-2.06.94zm10 10l.94 2.06.94-2.06 2.06-.94-2.06-.94-.94-2.06-.94 2.06-2.06.94z\"/><path d=\"M17.41 7.96l-1.37-1.37c-.4-.4-.92-.59-1.43-.59-.52 0-1.04.2-1.43.59L10.3 9.45l-7.72 7.72c-.78.78-.78 2.05 0 2.83L4 21.41c.39.39.9.59 1.41.59.51 0 1.02-.2 1.41-.59l7.78-7.78 2.81-2.81c.8-.78.8-2.07 0-2.86zM5.41 20L4 18.59l7.72-7.72 1.47 1.35L5.41 20z\"/>\n",
              "  </svg>\n",
              "      </button>\n",
              "      \n",
              "  <style>\n",
              "    .colab-df-container {\n",
              "      display:flex;\n",
              "      flex-wrap:wrap;\n",
              "      gap: 12px;\n",
              "    }\n",
              "\n",
              "    .colab-df-convert {\n",
              "      background-color: #E8F0FE;\n",
              "      border: none;\n",
              "      border-radius: 50%;\n",
              "      cursor: pointer;\n",
              "      display: none;\n",
              "      fill: #1967D2;\n",
              "      height: 32px;\n",
              "      padding: 0 0 0 0;\n",
              "      width: 32px;\n",
              "    }\n",
              "\n",
              "    .colab-df-convert:hover {\n",
              "      background-color: #E2EBFA;\n",
              "      box-shadow: 0px 1px 2px rgba(60, 64, 67, 0.3), 0px 1px 3px 1px rgba(60, 64, 67, 0.15);\n",
              "      fill: #174EA6;\n",
              "    }\n",
              "\n",
              "    [theme=dark] .colab-df-convert {\n",
              "      background-color: #3B4455;\n",
              "      fill: #D2E3FC;\n",
              "    }\n",
              "\n",
              "    [theme=dark] .colab-df-convert:hover {\n",
              "      background-color: #434B5C;\n",
              "      box-shadow: 0px 1px 3px 1px rgba(0, 0, 0, 0.15);\n",
              "      filter: drop-shadow(0px 1px 2px rgba(0, 0, 0, 0.3));\n",
              "      fill: #FFFFFF;\n",
              "    }\n",
              "  </style>\n",
              "\n",
              "      <script>\n",
              "        const buttonEl =\n",
              "          document.querySelector('#df-075da3fd-0ac3-4b10-97c9-c6356c705ae3 button.colab-df-convert');\n",
              "        buttonEl.style.display =\n",
              "          google.colab.kernel.accessAllowed ? 'block' : 'none';\n",
              "\n",
              "        async function convertToInteractive(key) {\n",
              "          const element = document.querySelector('#df-075da3fd-0ac3-4b10-97c9-c6356c705ae3');\n",
              "          const dataTable =\n",
              "            await google.colab.kernel.invokeFunction('convertToInteractive',\n",
              "                                                     [key], {});\n",
              "          if (!dataTable) return;\n",
              "\n",
              "          const docLinkHtml = 'Like what you see? Visit the ' +\n",
              "            '<a target=\"_blank\" href=https://colab.research.google.com/notebooks/data_table.ipynb>data table notebook</a>'\n",
              "            + ' to learn more about interactive tables.';\n",
              "          element.innerHTML = '';\n",
              "          dataTable['output_type'] = 'display_data';\n",
              "          await google.colab.output.renderOutput(dataTable, element);\n",
              "          const docLink = document.createElement('div');\n",
              "          docLink.innerHTML = docLinkHtml;\n",
              "          element.appendChild(docLink);\n",
              "        }\n",
              "      </script>\n",
              "    </div>\n",
              "  </div>\n",
              "  "
            ]
          },
          "metadata": {},
          "execution_count": 11
        }
      ]
    },
    {
      "cell_type": "markdown",
      "source": [
        "## Prédiction\n",
        "### Fonction de prédiction"
      ],
      "metadata": {
        "id": "BkqUzo5fszW3"
      }
    },
    {
      "cell_type": "code",
      "source": [
        "def predict (prenom, k):\n",
        "  distances = distanceall(prenom) # on calcule sa distance avec tous les autres\n",
        "  distancesk = distances.head(k) # on affiche les k premiers\n",
        "  kAlive = 0\n",
        "  # On récupère les valeurs 'isAlive' des k plus proches voisins\n",
        "  for i in range(k):\n",
        "    prenomn = distancesk.iloc[i,0] # on récupère le prénom du k plus proche voisin\n",
        "    personne = got.loc[got['name'] == prenomn, ('isAlive')].values\n",
        "    kAlive += personne[0] # on augmente le compteur de voisin·es vivant·es\n",
        "  mid = math.ceil(k/2)\n",
        "  \n",
        "  # On récupère la vraie valeur de isAlive\n",
        "  alive = got.loc[got['name'] == prenom,'isAlive'] # on cherche le 1er prénom\n",
        "  # On classifie selon les valeurs 'isAlive' des k plus proches voisins\n",
        "  print(kAlive, \"de ses\", k, \"plus proches voisins sont vivants.\")\n",
        "  if kAlive >= mid:\n",
        "    print(\"Donc\", prenom, \"est probablement vivant·e.\")\n",
        "    if alive.values[0] == 1:\n",
        "      print(\"Ce qui est une bonne prédiction\")\n",
        "    else:\n",
        "      print(\"Ce qui est une mauvaise prédiction\")\n",
        "  else:\n",
        "    print(\"Donc\", prenom, \"est probablement mort·e.\")\n",
        "    if alive.values[0] == 0:\n",
        "      print(\"Ce qui est une bonne prédiction\")\n",
        "    else:\n",
        "      print(\"Ce qui est une mauvaise prédiction\")"
      ],
      "metadata": {
        "id": "h0WxuNKDRs5u"
      },
      "execution_count": null,
      "outputs": []
    },
    {
      "cell_type": "markdown",
      "source": [
        "#### Test avec exemple"
      ],
      "metadata": {
        "id": "bVRGoZeAMq-K"
      }
    },
    {
      "cell_type": "code",
      "source": [
        "predict('Arya Stark', 5)"
      ],
      "metadata": {
        "colab": {
          "base_uri": "https://localhost:8080/"
        },
        "id": "h7h7yzHzMzhy",
        "outputId": "20fd1816-863e-4811-ec74-1a1f28af692a"
      },
      "execution_count": null,
      "outputs": [
        {
          "output_type": "stream",
          "name": "stdout",
          "text": [
            "3 de ses 5 plus proches voisins sont vivants.\n",
            "Donc Arya Stark est probablement vivant·e.\n",
            "Ce qui est une bonne prédiction\n"
          ]
        }
      ]
    },
    {
      "cell_type": "markdown",
      "source": [
        "### Leave-one-out\n",
        "- Tester plusieurs pondérations\n",
        "- Tester pour chaque exemple \n",
        "- Mesurer taux de prédictions correctes (nb succès / nb exemple total)"
      ],
      "metadata": {
        "id": "lF_v8W_NcQta"
      }
    },
    {
      "cell_type": "markdown",
      "source": [
        "#### Entre deux personnes\n",
        "Avec les poids"
      ],
      "metadata": {
        "id": "Z-QOLdSFPYJ1"
      }
    },
    {
      "cell_type": "code",
      "source": [
        "def distancep(prenom1, prenom2, poids1, poids2, poids3, poids4, poids5):\n",
        "  personne1 = got.loc[got['name'] == 'Arya Stark',('male', 'book1', 'book4', 'numDeadRelations', 'popularity')] # on cherche le 1er prénom\n",
        "  personne1 = personne1[['male', 'book1', 'book4', 'numDeadRelations', 'popularity']].values # on récupère les variables qui nous intéressent\n",
        "  personne2 = got.loc[got['name'] == 'Tyrion Lannister',('male', 'book1', 'book4', 'numDeadRelations', 'popularity')] # on cherche le 2ème prénom\n",
        "  personne2 = personne2[['male', 'book1', 'book4', 'numDeadRelations', 'popularity']].values # on récupère les variables qui nous intéressent\n",
        "\n",
        "  dist = sqrt((personne2[0, 0] * poids1 - personne1[0, 0] * poids1)**2 + (personne2[0, 1] * poids2 - personne1[0, 1] * poids2)**2 + (personne2[0, 2] * poids3 - personne1[0, 2] * poids3)**2 + (personne2[0, 3] * poids4 - personne1[0, 3] * poids4)**2 + (personne2[0, 4] * poids5 - personne1[0, 4] * poids5)**2)\n",
        "  return dist # on calcule la distance pondérée"
      ],
      "metadata": {
        "id": "G9I1dTuazFu9"
      },
      "execution_count": null,
      "outputs": []
    },
    {
      "cell_type": "markdown",
      "source": [
        "Test avec deux exemples"
      ],
      "metadata": {
        "id": "G26T97MYNmnO"
      }
    },
    {
      "cell_type": "code",
      "source": [
        "distancep('Arya Stark', 'Tyrion Lannister', 0.2, 0.1, 0.1, 0.3, 0.3)"
      ],
      "metadata": {
        "colab": {
          "base_uri": "https://localhost:8080/"
        },
        "id": "u7qTTf95NoYv",
        "outputId": "3348f413-0a6d-4895-a26a-d4c2a011a808"
      },
      "execution_count": null,
      "outputs": [
        {
          "output_type": "execute_result",
          "data": {
            "text/plain": [
              "1.2165525060596436"
            ]
          },
          "metadata": {},
          "execution_count": 19
        }
      ]
    },
    {
      "cell_type": "markdown",
      "source": [
        "#### Entre une personne et les autres\n",
        "Avec les poids"
      ],
      "metadata": {
        "id": "OPLUGFcKPdVG"
      }
    },
    {
      "cell_type": "code",
      "source": [
        "def distanceallp(prenom, poids1, poids2, poids3, poids4, poids5):\n",
        "  #distances = [] # liste des distances\n",
        "  distances = pd.DataFrame(columns = ['Prénom', 'Distance']) # on crée un tableau\n",
        "\n",
        "  # On parcourt tout le tableau\n",
        "  for i in range(len(got)):\n",
        "    if got.iloc[i,0] != prenom: # on exclut la personne\n",
        "      prenom2 = got.iloc[i,0] # on récupère le 2ème prénom\n",
        "      dist = distancep(prenom, prenom2, poids1, poids2, poids3, poids4, poids5) # on calcule la distance entre les deux \n",
        "      ligne = [prenom2, dist]\n",
        "      distances.loc[len(distances)] = ligne # on l'ajoute à notre tableau\n",
        "\n",
        "  # On classe les distances\n",
        "  distances.sort_values(by = ['Distance'], inplace = True) # on range le tableau par ordre croissant\n",
        "  return distances # on affiche la liste "
      ],
      "metadata": {
        "id": "O9KXVw0uPoqz"
      },
      "execution_count": null,
      "outputs": []
    },
    {
      "cell_type": "markdown",
      "source": [
        "#### Essai sur tous"
      ],
      "metadata": {
        "id": "kTOqNAp5XSyv"
      }
    },
    {
      "cell_type": "code",
      "source": [
        "def predictp(k):\n",
        "  suc = 0 # nombres de bonnes prédictions\n",
        "\n",
        "  for i in range(len(got)): \n",
        "  #for i in range(10):  # test\n",
        "    prenom = got.iloc[i,0] # on récupère le prenom\n",
        "    poids1 = round(random.uniform(0, 1), 2) # on génère le 1er poids entre 0 et 1\n",
        "    poids2 = round(random.uniform(0, 1-poids1), 2) # on génère le 2ème poids entre 0 etle 1er\n",
        "    poids3 = round(random.uniform(0, 1-(poids2 + poids1)), 2) # on génère le 3ème poids entre 0 et les 2 autres\n",
        "    poids4 = round(random.uniform(0, 1-(poids3 + poids2 + poids1)), 2) # on génère le 4ème poids entre 0 et les 3 autres \n",
        "    poids5 = round(random.uniform(0, 1-(poids4 + poids3 + poids2 + poids1)), 2) # on génère le 5ème poids entre 0 et les 4 autres\n",
        "    distances = distanceallp(prenom, poids1, poids2, poids3, poids4, poids5) # on calcule sa distance avec tous les autres\n",
        "    distancesk = distances.head(k) # on affiche les k premiers\n",
        "    kAlive = 0\n",
        "\n",
        "    # On récupère la vraie valeur de isAlive\n",
        "    alive = got.loc[got['name'] == prenom,'isAlive'] # on cherche le 1er prénom\n",
        "\n",
        "    # On récupère les valeurs 'isAlive' des k plus proches voisins\n",
        "    for j in range(k):\n",
        "      prenomn = distancesk.iloc[j,0] # on récupère le prénom du k plus proche voisin\n",
        "      personne = got.loc[got['name'] == prenomn, ('isAlive')].values\n",
        "      kAlive += personne[0]\n",
        "    mid = math.ceil(k/2)\n",
        "    \n",
        "    # On classifie selon les valeurs 'isAlive' des k plus proches voisins\n",
        "    if kAlive >= mid:\n",
        "      if alive.values[0] == 1:\n",
        "        suc += 1\n",
        "    else:\n",
        "      if alive.values[0] == 0:\n",
        "        suc += 1\n",
        "  acc = suc / len(got)\n",
        "  #acc = suc / 10 # test\n",
        "  print(\"Avec\", k, \"voisins et les poids suivants :\", poids1,\"pour la variable 'male'\", poids2, \"pour la variable 'book1'\", poids3, \"pour la variable 'book4'\", poids4, \"pour la variable 'numDeadRelations'\", poids5, \"pour la variable 'popularity', on obtient une précision de\", acc)\n",
        "  return poids1, poids2, poids3, poids4, poids4, k, acc"
      ],
      "metadata": {
        "id": "r2eKI6dpYdhK"
      },
      "execution_count": 23,
      "outputs": []
    },
    {
      "cell_type": "code",
      "source": [
        "predictp(5)"
      ],
      "metadata": {
        "id": "yLfCwtnyrkMG",
        "colab": {
          "base_uri": "https://localhost:8080/"
        },
        "outputId": "eadd62d4-690f-4b24-e8d7-1589e13ada72"
      },
      "execution_count": 24,
      "outputs": [
        {
          "output_type": "stream",
          "name": "stdout",
          "text": [
            "Avec 5 voisins et les poids suivants : 0.49 pour la variable 'male' 0.43 pour la variable 'book1' 0.07 pour la variable 'book4' 0.01 pour la variable 'numDeadRelations' 0.0 pour la variable 'popularity', on obtient une précision de 0.9\n"
          ]
        },
        {
          "output_type": "execute_result",
          "data": {
            "text/plain": [
              "(0.49, 0.43, 0.07, 0.01, 0.01, 5, 0.9)"
            ]
          },
          "metadata": {},
          "execution_count": 24
        }
      ]
    },
    {
      "cell_type": "markdown",
      "source": [
        "## Export / Import\n",
        "Les paramètres vont maintenant être lus non plus dans votre code mais dans un fichier externe.\n",
        "Cela vous permettra de réaliser plusieurs simulations en allant à chaque fois lire les paramètres de la simulation dans ce fichier.\n",
        "Vous ferez également un fichier resultats.txt, dans lequel vous irez écrire les paramètres et le taux de succès de votre algorithme à chaque simulation. \n",
        "Ce fichier de paramètres peut être généré automatiquement par un autre script, ou par Excel."
      ],
      "metadata": {
        "id": "paSV3uCKddyK"
      }
    },
    {
      "cell_type": "markdown",
      "source": [
        "### Export \n",
        "#### Test de plusieurs paramètres"
      ],
      "metadata": {
        "id": "onNkxrbbu6Bn"
      }
    },
    {
      "cell_type": "code",
      "source": [
        "def predictpk(n, k):\n",
        "  for i in range(n): # on le fait n fois (change les pondérations à chaque fois)\n",
        "    predictp(k)\n",
        "    print(\"Avec\", k, \"voisins et les poids suivants:\", poids1,\"pour la variable 'male'\", poids2, \"pour la variable 'book1'\", poids3, \"pour la variable 'book4'\", poids4, \"pour la variable 'numDeadRelations'\", poids5, \"pour la variable 'popularity'\", \"on obtient une précision de\", acc)\n",
        "  \n",
        "    filename = \"resultats_essai\" + str(n) + \".txt\"\n",
        "    line = \"Avec \" + str(k) + \" voisins et les poids suivants : \" + str(poids1) + \" pour la variable 'male' \" + str(poids2) + \" pour la variable 'book1' \" + str(poids3) + \" pour la variable 'book4' \" + str(poids4) + \" pour la variable 'numDeadRelations' \" + str(poids5) + \" pour la variable 'popularity', on obtient une précision de \" + str(acc)\n",
        "    with openopen(filename, \"w\") as f:\n",
        "      f.write(line)"
      ],
      "metadata": {
        "id": "xXwxces7u9S9"
      },
      "execution_count": 25,
      "outputs": []
    },
    {
      "cell_type": "markdown",
      "source": [
        "Test"
      ],
      "metadata": {
        "id": "RTMRWrt13Wtz"
      }
    },
    {
      "cell_type": "code",
      "source": [
        "predictpk(1,5)"
      ],
      "metadata": {
        "id": "aUjhjcJZcUDC"
      },
      "execution_count": null,
      "outputs": []
    },
    {
      "cell_type": "markdown",
      "source": [
        "### Import"
      ],
      "metadata": {
        "id": "WSLTyNNt3c-l"
      }
    },
    {
      "cell_type": "code",
      "source": [
        "param = pd.read_csv('https://raw.githubusercontent.com/astridgcn/Info/main/param.csv', header = None, sep= ';')"
      ],
      "metadata": {
        "id": "Zen4FbnE3Qcx"
      },
      "execution_count": 26,
      "outputs": []
    },
    {
      "cell_type": "code",
      "source": [
        "def predictpimp(k, poids1, poids2, poids3, poids4, poids5):\n",
        "  suc = 0 # nombres de bonnes prédictions\n",
        "\n",
        "  for i in range(len(got)):\n",
        "  #for i in range(10):\n",
        "    prenom = got.iloc[i,0] # on récupère le prenom\n",
        "    distances = distanceallp(prenom, poids1, poids2, poids3, poids4, poids5) # on calcule sa distance avec tous les autres\n",
        "    distancesk = distances.head(k) # on affiche les k premiers\n",
        "    kAlive = 0\n",
        "\n",
        "    # On récupère la vraie valeur de isAlive\n",
        "    alive = got.loc[got['name'] == prenom,'isAlive'] # on cherche le 1er prénom\n",
        "\n",
        "    # On récupère les valeurs 'isAlive' des k plus proches voisins\n",
        "    for j in range(k):\n",
        "      prenomn = distancesk.iloc[j,0] # on récupère le prénom du k plus proche voisin\n",
        "      personne = got.loc[got['name'] == prenomn, ('isAlive')].values\n",
        "      kAlive += personne[0]\n",
        "    mid = math.ceil(k/2)\n",
        "    \n",
        "    # On classifie selon les valeurs 'isAlive' des k plus proches voisins\n",
        "    if kAlive >= mid:\n",
        "      if alive.values[0] == 1:\n",
        "        suc += 1\n",
        "    else:\n",
        "      if alive.values[0] == 0:\n",
        "        suc += 1\n",
        "  acc = suc / len(got)\n",
        "  #acc = suc / 10\n",
        "  print(\"Avec\", k, \"voisins et les poids suivants :\", poids1,\"pour la variable 'male'\", poids2, \"pour la variable 'book1'\", poids3, \"pour la variable 'book4'\", poids4, \"pour la variable 'numDeadRelations'\", poids5, \"pour la variable 'popularity', on obtient une précision de\", acc)\n",
        "  return poids1, poids2, poids3, poids4, poids4, k, acc"
      ],
      "metadata": {
        "id": "N9aZhFVn4MpJ"
      },
      "execution_count": 27,
      "outputs": []
    },
    {
      "cell_type": "code",
      "source": [
        "predictpimp(param.iloc[0,0], param.iloc[0,1], param.iloc[0,2], param.iloc[0,3], param.iloc[0,4], param.iloc[0,5])"
      ],
      "metadata": {
        "id": "nd-EKoGk6-Ks"
      },
      "execution_count": null,
      "outputs": []
    }
  ]
}