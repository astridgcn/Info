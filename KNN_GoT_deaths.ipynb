{
  "nbformat": 4,
  "nbformat_minor": 0,
  "metadata": {
    "colab": {
      "provenance": []
    },
    "kernelspec": {
      "name": "python3",
      "display_name": "Python 3"
    },
    "language_info": {
      "name": "python"
    }
  },
  "cells": [
    {
      "cell_type": "markdown",
      "source": [
        "# Chargement \n",
        "### Librairies"
      ],
      "metadata": {
        "id": "mVgSGfKxino3"
      }
    },
    {
      "cell_type": "code",
      "execution_count": 33,
      "metadata": {
        "id": "Ohxy1Oz0iMdC"
      },
      "outputs": [],
      "source": [
        "import numpy as np\n",
        "import pandas as pd\n",
        "import seaborn as sns\n",
        "import matplotlib.pyplot as plt\n",
        "import math\n",
        "from math import sqrt\n",
        "import random\n",
        "from pandas import read_csv\n",
        "from scipy.spatial.distance import euclidean"
      ]
    },
    {
      "cell_type": "markdown",
      "source": [
        "### Jeu de données"
      ],
      "metadata": {
        "id": "9gBhxRffizK2"
      }
    },
    {
      "cell_type": "code",
      "source": [
        "got = pd.read_csv('https://raw.githubusercontent.com/astridgcn/Info/main/got.csv', header = 0, sep= ';', decimal = '.')\n",
        "got"
      ],
      "metadata": {
        "id": "YF6GJfdSiylY",
        "colab": {
          "base_uri": "https://localhost:8080/",
          "height": 463
        },
        "outputId": "01460687-c768-4c1f-9def-1daf82384958"
      },
      "execution_count": null,
      "outputs": [
        {
          "output_type": "execute_result",
          "data": {
            "text/plain": [
              "      S.No                          name  male      culture            house  \\\n",
              "0        1                    Arya Stark     0     Northmen      House Stark   \n",
              "1        2               Barristan Selmy     1     Westeros      House Selmy   \n",
              "2        3                    Bran Stark     1     Northmen      House Stark   \n",
              "3        4              Cersei Lannister     0  Westerlands  House Lannister   \n",
              "4        5            Daenerys Targaryen     0     Valyrian  House Targaryen   \n",
              "...    ...                           ...   ...          ...              ...   \n",
              "1932   251  Walder Frey (son of Merrett)     1          NaN       House Frey   \n",
              "1933   250    Walder Frey (son of Ryman)     1     Rivermen       House Frey   \n",
              "1934   261                          Wate     0          NaN  House Targaryen   \n",
              "1935    24                        Willum     1          NaN              NaN   \n",
              "1936    39                        Yorkel     0          NaN  House Targaryen   \n",
              "\n",
              "      book1  book2  book3  book4  book5  isMarried  isNoble  numDeadRelations  \\\n",
              "0         1      1      1      1      1          0        1                 8   \n",
              "1         1      1      1      1      1          0        1                 0   \n",
              "2         1      1      1      1      1          0        1                 7   \n",
              "3         1      1      1      1      1          1        1                 9   \n",
              "4         1      1      1      1      1          1        1                15   \n",
              "...     ...    ...    ...    ...    ...        ...      ...               ...   \n",
              "1932      0      0      0      0      0          0        0                 0   \n",
              "1933      0      0      0      0      0          0        0                 0   \n",
              "1934      0      0      0      0      0          0        0                 0   \n",
              "1935      1      0      0      0      0          0        1                 0   \n",
              "1936      0      0      0      0      0          0        0                 0   \n",
              "\n",
              "      popularity  isAlive  \n",
              "0            1.0        1  \n",
              "1            1.0        1  \n",
              "2            1.0        1  \n",
              "3            1.0        1  \n",
              "4            1.0        1  \n",
              "...          ...      ...  \n",
              "1932         0.0        0  \n",
              "1933         0.0        1  \n",
              "1934         0.0        1  \n",
              "1935         0.0        1  \n",
              "1936         0.0        1  \n",
              "\n",
              "[1937 rows x 15 columns]"
            ],
            "text/html": [
              "\n",
              "  <div id=\"df-d45221f0-da9d-45b9-92a0-202a13eb46b4\">\n",
              "    <div class=\"colab-df-container\">\n",
              "      <div>\n",
              "<style scoped>\n",
              "    .dataframe tbody tr th:only-of-type {\n",
              "        vertical-align: middle;\n",
              "    }\n",
              "\n",
              "    .dataframe tbody tr th {\n",
              "        vertical-align: top;\n",
              "    }\n",
              "\n",
              "    .dataframe thead th {\n",
              "        text-align: right;\n",
              "    }\n",
              "</style>\n",
              "<table border=\"1\" class=\"dataframe\">\n",
              "  <thead>\n",
              "    <tr style=\"text-align: right;\">\n",
              "      <th></th>\n",
              "      <th>S.No</th>\n",
              "      <th>name</th>\n",
              "      <th>male</th>\n",
              "      <th>culture</th>\n",
              "      <th>house</th>\n",
              "      <th>book1</th>\n",
              "      <th>book2</th>\n",
              "      <th>book3</th>\n",
              "      <th>book4</th>\n",
              "      <th>book5</th>\n",
              "      <th>isMarried</th>\n",
              "      <th>isNoble</th>\n",
              "      <th>numDeadRelations</th>\n",
              "      <th>popularity</th>\n",
              "      <th>isAlive</th>\n",
              "    </tr>\n",
              "  </thead>\n",
              "  <tbody>\n",
              "    <tr>\n",
              "      <th>0</th>\n",
              "      <td>1</td>\n",
              "      <td>Arya Stark</td>\n",
              "      <td>0</td>\n",
              "      <td>Northmen</td>\n",
              "      <td>House Stark</td>\n",
              "      <td>1</td>\n",
              "      <td>1</td>\n",
              "      <td>1</td>\n",
              "      <td>1</td>\n",
              "      <td>1</td>\n",
              "      <td>0</td>\n",
              "      <td>1</td>\n",
              "      <td>8</td>\n",
              "      <td>1.0</td>\n",
              "      <td>1</td>\n",
              "    </tr>\n",
              "    <tr>\n",
              "      <th>1</th>\n",
              "      <td>2</td>\n",
              "      <td>Barristan Selmy</td>\n",
              "      <td>1</td>\n",
              "      <td>Westeros</td>\n",
              "      <td>House Selmy</td>\n",
              "      <td>1</td>\n",
              "      <td>1</td>\n",
              "      <td>1</td>\n",
              "      <td>1</td>\n",
              "      <td>1</td>\n",
              "      <td>0</td>\n",
              "      <td>1</td>\n",
              "      <td>0</td>\n",
              "      <td>1.0</td>\n",
              "      <td>1</td>\n",
              "    </tr>\n",
              "    <tr>\n",
              "      <th>2</th>\n",
              "      <td>3</td>\n",
              "      <td>Bran Stark</td>\n",
              "      <td>1</td>\n",
              "      <td>Northmen</td>\n",
              "      <td>House Stark</td>\n",
              "      <td>1</td>\n",
              "      <td>1</td>\n",
              "      <td>1</td>\n",
              "      <td>1</td>\n",
              "      <td>1</td>\n",
              "      <td>0</td>\n",
              "      <td>1</td>\n",
              "      <td>7</td>\n",
              "      <td>1.0</td>\n",
              "      <td>1</td>\n",
              "    </tr>\n",
              "    <tr>\n",
              "      <th>3</th>\n",
              "      <td>4</td>\n",
              "      <td>Cersei Lannister</td>\n",
              "      <td>0</td>\n",
              "      <td>Westerlands</td>\n",
              "      <td>House Lannister</td>\n",
              "      <td>1</td>\n",
              "      <td>1</td>\n",
              "      <td>1</td>\n",
              "      <td>1</td>\n",
              "      <td>1</td>\n",
              "      <td>1</td>\n",
              "      <td>1</td>\n",
              "      <td>9</td>\n",
              "      <td>1.0</td>\n",
              "      <td>1</td>\n",
              "    </tr>\n",
              "    <tr>\n",
              "      <th>4</th>\n",
              "      <td>5</td>\n",
              "      <td>Daenerys Targaryen</td>\n",
              "      <td>0</td>\n",
              "      <td>Valyrian</td>\n",
              "      <td>House Targaryen</td>\n",
              "      <td>1</td>\n",
              "      <td>1</td>\n",
              "      <td>1</td>\n",
              "      <td>1</td>\n",
              "      <td>1</td>\n",
              "      <td>1</td>\n",
              "      <td>1</td>\n",
              "      <td>15</td>\n",
              "      <td>1.0</td>\n",
              "      <td>1</td>\n",
              "    </tr>\n",
              "    <tr>\n",
              "      <th>...</th>\n",
              "      <td>...</td>\n",
              "      <td>...</td>\n",
              "      <td>...</td>\n",
              "      <td>...</td>\n",
              "      <td>...</td>\n",
              "      <td>...</td>\n",
              "      <td>...</td>\n",
              "      <td>...</td>\n",
              "      <td>...</td>\n",
              "      <td>...</td>\n",
              "      <td>...</td>\n",
              "      <td>...</td>\n",
              "      <td>...</td>\n",
              "      <td>...</td>\n",
              "      <td>...</td>\n",
              "    </tr>\n",
              "    <tr>\n",
              "      <th>1932</th>\n",
              "      <td>251</td>\n",
              "      <td>Walder Frey (son of Merrett)</td>\n",
              "      <td>1</td>\n",
              "      <td>NaN</td>\n",
              "      <td>House Frey</td>\n",
              "      <td>0</td>\n",
              "      <td>0</td>\n",
              "      <td>0</td>\n",
              "      <td>0</td>\n",
              "      <td>0</td>\n",
              "      <td>0</td>\n",
              "      <td>0</td>\n",
              "      <td>0</td>\n",
              "      <td>0.0</td>\n",
              "      <td>0</td>\n",
              "    </tr>\n",
              "    <tr>\n",
              "      <th>1933</th>\n",
              "      <td>250</td>\n",
              "      <td>Walder Frey (son of Ryman)</td>\n",
              "      <td>1</td>\n",
              "      <td>Rivermen</td>\n",
              "      <td>House Frey</td>\n",
              "      <td>0</td>\n",
              "      <td>0</td>\n",
              "      <td>0</td>\n",
              "      <td>0</td>\n",
              "      <td>0</td>\n",
              "      <td>0</td>\n",
              "      <td>0</td>\n",
              "      <td>0</td>\n",
              "      <td>0.0</td>\n",
              "      <td>1</td>\n",
              "    </tr>\n",
              "    <tr>\n",
              "      <th>1934</th>\n",
              "      <td>261</td>\n",
              "      <td>Wate</td>\n",
              "      <td>0</td>\n",
              "      <td>NaN</td>\n",
              "      <td>House Targaryen</td>\n",
              "      <td>0</td>\n",
              "      <td>0</td>\n",
              "      <td>0</td>\n",
              "      <td>0</td>\n",
              "      <td>0</td>\n",
              "      <td>0</td>\n",
              "      <td>0</td>\n",
              "      <td>0</td>\n",
              "      <td>0.0</td>\n",
              "      <td>1</td>\n",
              "    </tr>\n",
              "    <tr>\n",
              "      <th>1935</th>\n",
              "      <td>24</td>\n",
              "      <td>Willum</td>\n",
              "      <td>1</td>\n",
              "      <td>NaN</td>\n",
              "      <td>NaN</td>\n",
              "      <td>1</td>\n",
              "      <td>0</td>\n",
              "      <td>0</td>\n",
              "      <td>0</td>\n",
              "      <td>0</td>\n",
              "      <td>0</td>\n",
              "      <td>1</td>\n",
              "      <td>0</td>\n",
              "      <td>0.0</td>\n",
              "      <td>1</td>\n",
              "    </tr>\n",
              "    <tr>\n",
              "      <th>1936</th>\n",
              "      <td>39</td>\n",
              "      <td>Yorkel</td>\n",
              "      <td>0</td>\n",
              "      <td>NaN</td>\n",
              "      <td>House Targaryen</td>\n",
              "      <td>0</td>\n",
              "      <td>0</td>\n",
              "      <td>0</td>\n",
              "      <td>0</td>\n",
              "      <td>0</td>\n",
              "      <td>0</td>\n",
              "      <td>0</td>\n",
              "      <td>0</td>\n",
              "      <td>0.0</td>\n",
              "      <td>1</td>\n",
              "    </tr>\n",
              "  </tbody>\n",
              "</table>\n",
              "<p>1937 rows × 15 columns</p>\n",
              "</div>\n",
              "      <button class=\"colab-df-convert\" onclick=\"convertToInteractive('df-d45221f0-da9d-45b9-92a0-202a13eb46b4')\"\n",
              "              title=\"Convert this dataframe to an interactive table.\"\n",
              "              style=\"display:none;\">\n",
              "        \n",
              "  <svg xmlns=\"http://www.w3.org/2000/svg\" height=\"24px\"viewBox=\"0 0 24 24\"\n",
              "       width=\"24px\">\n",
              "    <path d=\"M0 0h24v24H0V0z\" fill=\"none\"/>\n",
              "    <path d=\"M18.56 5.44l.94 2.06.94-2.06 2.06-.94-2.06-.94-.94-2.06-.94 2.06-2.06.94zm-11 1L8.5 8.5l.94-2.06 2.06-.94-2.06-.94L8.5 2.5l-.94 2.06-2.06.94zm10 10l.94 2.06.94-2.06 2.06-.94-2.06-.94-.94-2.06-.94 2.06-2.06.94z\"/><path d=\"M17.41 7.96l-1.37-1.37c-.4-.4-.92-.59-1.43-.59-.52 0-1.04.2-1.43.59L10.3 9.45l-7.72 7.72c-.78.78-.78 2.05 0 2.83L4 21.41c.39.39.9.59 1.41.59.51 0 1.02-.2 1.41-.59l7.78-7.78 2.81-2.81c.8-.78.8-2.07 0-2.86zM5.41 20L4 18.59l7.72-7.72 1.47 1.35L5.41 20z\"/>\n",
              "  </svg>\n",
              "      </button>\n",
              "      \n",
              "  <style>\n",
              "    .colab-df-container {\n",
              "      display:flex;\n",
              "      flex-wrap:wrap;\n",
              "      gap: 12px;\n",
              "    }\n",
              "\n",
              "    .colab-df-convert {\n",
              "      background-color: #E8F0FE;\n",
              "      border: none;\n",
              "      border-radius: 50%;\n",
              "      cursor: pointer;\n",
              "      display: none;\n",
              "      fill: #1967D2;\n",
              "      height: 32px;\n",
              "      padding: 0 0 0 0;\n",
              "      width: 32px;\n",
              "    }\n",
              "\n",
              "    .colab-df-convert:hover {\n",
              "      background-color: #E2EBFA;\n",
              "      box-shadow: 0px 1px 2px rgba(60, 64, 67, 0.3), 0px 1px 3px 1px rgba(60, 64, 67, 0.15);\n",
              "      fill: #174EA6;\n",
              "    }\n",
              "\n",
              "    [theme=dark] .colab-df-convert {\n",
              "      background-color: #3B4455;\n",
              "      fill: #D2E3FC;\n",
              "    }\n",
              "\n",
              "    [theme=dark] .colab-df-convert:hover {\n",
              "      background-color: #434B5C;\n",
              "      box-shadow: 0px 1px 3px 1px rgba(0, 0, 0, 0.15);\n",
              "      filter: drop-shadow(0px 1px 2px rgba(0, 0, 0, 0.3));\n",
              "      fill: #FFFFFF;\n",
              "    }\n",
              "  </style>\n",
              "\n",
              "      <script>\n",
              "        const buttonEl =\n",
              "          document.querySelector('#df-d45221f0-da9d-45b9-92a0-202a13eb46b4 button.colab-df-convert');\n",
              "        buttonEl.style.display =\n",
              "          google.colab.kernel.accessAllowed ? 'block' : 'none';\n",
              "\n",
              "        async function convertToInteractive(key) {\n",
              "          const element = document.querySelector('#df-d45221f0-da9d-45b9-92a0-202a13eb46b4');\n",
              "          const dataTable =\n",
              "            await google.colab.kernel.invokeFunction('convertToInteractive',\n",
              "                                                     [key], {});\n",
              "          if (!dataTable) return;\n",
              "\n",
              "          const docLinkHtml = 'Like what you see? Visit the ' +\n",
              "            '<a target=\"_blank\" href=https://colab.research.google.com/notebooks/data_table.ipynb>data table notebook</a>'\n",
              "            + ' to learn more about interactive tables.';\n",
              "          element.innerHTML = '';\n",
              "          dataTable['output_type'] = 'display_data';\n",
              "          await google.colab.output.renderOutput(dataTable, element);\n",
              "          const docLink = document.createElement('div');\n",
              "          docLink.innerHTML = docLinkHtml;\n",
              "          element.appendChild(docLink);\n",
              "        }\n",
              "      </script>\n",
              "    </div>\n",
              "  </div>\n",
              "  "
            ]
          },
          "metadata": {},
          "execution_count": 28
        }
      ]
    },
    {
      "cell_type": "code",
      "source": [
        "print(got.shape) # forme des données\n",
        "print(got.dtypes) # types de données"
      ],
      "metadata": {
        "colab": {
          "base_uri": "https://localhost:8080/"
        },
        "id": "icPb1hwdi5tq",
        "outputId": "80dc58d2-650d-4229-e528-8d6dd2ce8f7d"
      },
      "execution_count": null,
      "outputs": [
        {
          "output_type": "stream",
          "name": "stdout",
          "text": [
            "(1937, 14)\n",
            "name                 object\n",
            "male                  int64\n",
            "culture              object\n",
            "house                object\n",
            "book1                 int64\n",
            "book2                 int64\n",
            "book3                 int64\n",
            "book4                 int64\n",
            "book5                 int64\n",
            "isMarried             int64\n",
            "isNoble               int64\n",
            "numDeadRelations      int64\n",
            "popularity          float64\n",
            "isAlive               int64\n",
            "dtype: object\n"
          ]
        }
      ]
    },
    {
      "cell_type": "code",
      "source": [
        "got.iloc[1,4] # test index"
      ],
      "metadata": {
        "colab": {
          "base_uri": "https://localhost:8080/",
          "height": 35
        },
        "id": "YX2IvTARi72U",
        "outputId": "19ab508e-f862-4f18-d0d5-7cefc76d20fe"
      },
      "execution_count": null,
      "outputs": [
        {
          "output_type": "execute_result",
          "data": {
            "text/plain": [
              "'House Selmy'"
            ],
            "application/vnd.google.colaboratory.intrinsic+json": {
              "type": "string"
            }
          },
          "metadata": {},
          "execution_count": 30
        }
      ]
    },
    {
      "cell_type": "markdown",
      "source": [
        "## Traitement"
      ],
      "metadata": {
        "id": "OPLhmUwfjDZd"
      }
    },
    {
      "cell_type": "markdown",
      "source": [
        "### Suppression des données manquantes"
      ],
      "metadata": {
        "id": "kPX0hP9Lk6RT"
      }
    },
    {
      "cell_type": "code",
      "source": [
        "#got.dropna()"
      ],
      "metadata": {
        "id": "4jtlOjcpi9zD"
      },
      "execution_count": null,
      "outputs": []
    },
    {
      "cell_type": "markdown",
      "source": [
        "### Sélection des données\n",
        "#### Étude des corrélations"
      ],
      "metadata": {
        "id": "FylFGaQjk2ox"
      }
    },
    {
      "cell_type": "code",
      "source": [
        "corr = got.corr(method = 'pearson').round(3)\n",
        "corr\n",
        "# Forte corr : male, book1, book4, numDeadRelations, popularity"
      ],
      "metadata": {
        "colab": {
          "base_uri": "https://localhost:8080/",
          "height": 421
        },
        "id": "F0lRr62pjB0o",
        "outputId": "828f2828-a964-4059-e2ef-613964f5afd7"
      },
      "execution_count": 34,
      "outputs": [
        {
          "output_type": "execute_result",
          "data": {
            "text/plain": [
              "                   S.No   male  book1  book2  book3  book4  book5  isMarried  \\\n",
              "S.No              1.000  0.110  0.236  0.274  0.335  0.256  0.367      0.111   \n",
              "male              0.110  1.000  0.085  0.062  0.025 -0.062  0.063     -0.083   \n",
              "book1             0.236  0.085  1.000  0.390  0.242  0.077  0.263      0.084   \n",
              "book2             0.274  0.062  0.390  1.000  0.449  0.173  0.224      0.157   \n",
              "book3             0.335  0.025  0.242  0.449  1.000  0.371  0.282      0.149   \n",
              "book4             0.256 -0.062  0.077  0.173  0.371  1.000  0.334      0.125   \n",
              "book5             0.367  0.063  0.263  0.224  0.282  0.334  1.000      0.093   \n",
              "isMarried         0.111 -0.083  0.084  0.157  0.149  0.125  0.093      1.000   \n",
              "isNoble           0.207  0.158  0.093  0.020  0.020  0.075  0.098      0.162   \n",
              "numDeadRelations  0.002  0.029  0.202  0.086  0.064  0.005  0.114      0.199   \n",
              "popularity        0.160  0.131  0.346  0.274  0.241  0.142  0.239      0.294   \n",
              "isAlive          -0.134 -0.144 -0.147 -0.068  0.007  0.270  0.034     -0.044   \n",
              "\n",
              "                  isNoble  numDeadRelations  popularity  isAlive  \n",
              "S.No                0.207             0.002       0.160   -0.134  \n",
              "male                0.158             0.029       0.131   -0.144  \n",
              "book1               0.093             0.202       0.346   -0.147  \n",
              "book2               0.020             0.086       0.274   -0.068  \n",
              "book3               0.020             0.064       0.241    0.007  \n",
              "book4               0.075             0.005       0.142    0.270  \n",
              "book5               0.098             0.114       0.239    0.034  \n",
              "isMarried           0.162             0.199       0.294   -0.044  \n",
              "isNoble             1.000             0.095       0.174   -0.042  \n",
              "numDeadRelations    0.095             1.000       0.586   -0.177  \n",
              "popularity          0.174             0.586       1.000   -0.170  \n",
              "isAlive            -0.042            -0.177      -0.170    1.000  "
            ],
            "text/html": [
              "\n",
              "  <div id=\"df-0373c6ee-ed18-49a5-851a-82c588932bc6\">\n",
              "    <div class=\"colab-df-container\">\n",
              "      <div>\n",
              "<style scoped>\n",
              "    .dataframe tbody tr th:only-of-type {\n",
              "        vertical-align: middle;\n",
              "    }\n",
              "\n",
              "    .dataframe tbody tr th {\n",
              "        vertical-align: top;\n",
              "    }\n",
              "\n",
              "    .dataframe thead th {\n",
              "        text-align: right;\n",
              "    }\n",
              "</style>\n",
              "<table border=\"1\" class=\"dataframe\">\n",
              "  <thead>\n",
              "    <tr style=\"text-align: right;\">\n",
              "      <th></th>\n",
              "      <th>S.No</th>\n",
              "      <th>male</th>\n",
              "      <th>book1</th>\n",
              "      <th>book2</th>\n",
              "      <th>book3</th>\n",
              "      <th>book4</th>\n",
              "      <th>book5</th>\n",
              "      <th>isMarried</th>\n",
              "      <th>isNoble</th>\n",
              "      <th>numDeadRelations</th>\n",
              "      <th>popularity</th>\n",
              "      <th>isAlive</th>\n",
              "    </tr>\n",
              "  </thead>\n",
              "  <tbody>\n",
              "    <tr>\n",
              "      <th>S.No</th>\n",
              "      <td>1.000</td>\n",
              "      <td>0.110</td>\n",
              "      <td>0.236</td>\n",
              "      <td>0.274</td>\n",
              "      <td>0.335</td>\n",
              "      <td>0.256</td>\n",
              "      <td>0.367</td>\n",
              "      <td>0.111</td>\n",
              "      <td>0.207</td>\n",
              "      <td>0.002</td>\n",
              "      <td>0.160</td>\n",
              "      <td>-0.134</td>\n",
              "    </tr>\n",
              "    <tr>\n",
              "      <th>male</th>\n",
              "      <td>0.110</td>\n",
              "      <td>1.000</td>\n",
              "      <td>0.085</td>\n",
              "      <td>0.062</td>\n",
              "      <td>0.025</td>\n",
              "      <td>-0.062</td>\n",
              "      <td>0.063</td>\n",
              "      <td>-0.083</td>\n",
              "      <td>0.158</td>\n",
              "      <td>0.029</td>\n",
              "      <td>0.131</td>\n",
              "      <td>-0.144</td>\n",
              "    </tr>\n",
              "    <tr>\n",
              "      <th>book1</th>\n",
              "      <td>0.236</td>\n",
              "      <td>0.085</td>\n",
              "      <td>1.000</td>\n",
              "      <td>0.390</td>\n",
              "      <td>0.242</td>\n",
              "      <td>0.077</td>\n",
              "      <td>0.263</td>\n",
              "      <td>0.084</td>\n",
              "      <td>0.093</td>\n",
              "      <td>0.202</td>\n",
              "      <td>0.346</td>\n",
              "      <td>-0.147</td>\n",
              "    </tr>\n",
              "    <tr>\n",
              "      <th>book2</th>\n",
              "      <td>0.274</td>\n",
              "      <td>0.062</td>\n",
              "      <td>0.390</td>\n",
              "      <td>1.000</td>\n",
              "      <td>0.449</td>\n",
              "      <td>0.173</td>\n",
              "      <td>0.224</td>\n",
              "      <td>0.157</td>\n",
              "      <td>0.020</td>\n",
              "      <td>0.086</td>\n",
              "      <td>0.274</td>\n",
              "      <td>-0.068</td>\n",
              "    </tr>\n",
              "    <tr>\n",
              "      <th>book3</th>\n",
              "      <td>0.335</td>\n",
              "      <td>0.025</td>\n",
              "      <td>0.242</td>\n",
              "      <td>0.449</td>\n",
              "      <td>1.000</td>\n",
              "      <td>0.371</td>\n",
              "      <td>0.282</td>\n",
              "      <td>0.149</td>\n",
              "      <td>0.020</td>\n",
              "      <td>0.064</td>\n",
              "      <td>0.241</td>\n",
              "      <td>0.007</td>\n",
              "    </tr>\n",
              "    <tr>\n",
              "      <th>book4</th>\n",
              "      <td>0.256</td>\n",
              "      <td>-0.062</td>\n",
              "      <td>0.077</td>\n",
              "      <td>0.173</td>\n",
              "      <td>0.371</td>\n",
              "      <td>1.000</td>\n",
              "      <td>0.334</td>\n",
              "      <td>0.125</td>\n",
              "      <td>0.075</td>\n",
              "      <td>0.005</td>\n",
              "      <td>0.142</td>\n",
              "      <td>0.270</td>\n",
              "    </tr>\n",
              "    <tr>\n",
              "      <th>book5</th>\n",
              "      <td>0.367</td>\n",
              "      <td>0.063</td>\n",
              "      <td>0.263</td>\n",
              "      <td>0.224</td>\n",
              "      <td>0.282</td>\n",
              "      <td>0.334</td>\n",
              "      <td>1.000</td>\n",
              "      <td>0.093</td>\n",
              "      <td>0.098</td>\n",
              "      <td>0.114</td>\n",
              "      <td>0.239</td>\n",
              "      <td>0.034</td>\n",
              "    </tr>\n",
              "    <tr>\n",
              "      <th>isMarried</th>\n",
              "      <td>0.111</td>\n",
              "      <td>-0.083</td>\n",
              "      <td>0.084</td>\n",
              "      <td>0.157</td>\n",
              "      <td>0.149</td>\n",
              "      <td>0.125</td>\n",
              "      <td>0.093</td>\n",
              "      <td>1.000</td>\n",
              "      <td>0.162</td>\n",
              "      <td>0.199</td>\n",
              "      <td>0.294</td>\n",
              "      <td>-0.044</td>\n",
              "    </tr>\n",
              "    <tr>\n",
              "      <th>isNoble</th>\n",
              "      <td>0.207</td>\n",
              "      <td>0.158</td>\n",
              "      <td>0.093</td>\n",
              "      <td>0.020</td>\n",
              "      <td>0.020</td>\n",
              "      <td>0.075</td>\n",
              "      <td>0.098</td>\n",
              "      <td>0.162</td>\n",
              "      <td>1.000</td>\n",
              "      <td>0.095</td>\n",
              "      <td>0.174</td>\n",
              "      <td>-0.042</td>\n",
              "    </tr>\n",
              "    <tr>\n",
              "      <th>numDeadRelations</th>\n",
              "      <td>0.002</td>\n",
              "      <td>0.029</td>\n",
              "      <td>0.202</td>\n",
              "      <td>0.086</td>\n",
              "      <td>0.064</td>\n",
              "      <td>0.005</td>\n",
              "      <td>0.114</td>\n",
              "      <td>0.199</td>\n",
              "      <td>0.095</td>\n",
              "      <td>1.000</td>\n",
              "      <td>0.586</td>\n",
              "      <td>-0.177</td>\n",
              "    </tr>\n",
              "    <tr>\n",
              "      <th>popularity</th>\n",
              "      <td>0.160</td>\n",
              "      <td>0.131</td>\n",
              "      <td>0.346</td>\n",
              "      <td>0.274</td>\n",
              "      <td>0.241</td>\n",
              "      <td>0.142</td>\n",
              "      <td>0.239</td>\n",
              "      <td>0.294</td>\n",
              "      <td>0.174</td>\n",
              "      <td>0.586</td>\n",
              "      <td>1.000</td>\n",
              "      <td>-0.170</td>\n",
              "    </tr>\n",
              "    <tr>\n",
              "      <th>isAlive</th>\n",
              "      <td>-0.134</td>\n",
              "      <td>-0.144</td>\n",
              "      <td>-0.147</td>\n",
              "      <td>-0.068</td>\n",
              "      <td>0.007</td>\n",
              "      <td>0.270</td>\n",
              "      <td>0.034</td>\n",
              "      <td>-0.044</td>\n",
              "      <td>-0.042</td>\n",
              "      <td>-0.177</td>\n",
              "      <td>-0.170</td>\n",
              "      <td>1.000</td>\n",
              "    </tr>\n",
              "  </tbody>\n",
              "</table>\n",
              "</div>\n",
              "      <button class=\"colab-df-convert\" onclick=\"convertToInteractive('df-0373c6ee-ed18-49a5-851a-82c588932bc6')\"\n",
              "              title=\"Convert this dataframe to an interactive table.\"\n",
              "              style=\"display:none;\">\n",
              "        \n",
              "  <svg xmlns=\"http://www.w3.org/2000/svg\" height=\"24px\"viewBox=\"0 0 24 24\"\n",
              "       width=\"24px\">\n",
              "    <path d=\"M0 0h24v24H0V0z\" fill=\"none\"/>\n",
              "    <path d=\"M18.56 5.44l.94 2.06.94-2.06 2.06-.94-2.06-.94-.94-2.06-.94 2.06-2.06.94zm-11 1L8.5 8.5l.94-2.06 2.06-.94-2.06-.94L8.5 2.5l-.94 2.06-2.06.94zm10 10l.94 2.06.94-2.06 2.06-.94-2.06-.94-.94-2.06-.94 2.06-2.06.94z\"/><path d=\"M17.41 7.96l-1.37-1.37c-.4-.4-.92-.59-1.43-.59-.52 0-1.04.2-1.43.59L10.3 9.45l-7.72 7.72c-.78.78-.78 2.05 0 2.83L4 21.41c.39.39.9.59 1.41.59.51 0 1.02-.2 1.41-.59l7.78-7.78 2.81-2.81c.8-.78.8-2.07 0-2.86zM5.41 20L4 18.59l7.72-7.72 1.47 1.35L5.41 20z\"/>\n",
              "  </svg>\n",
              "      </button>\n",
              "      \n",
              "  <style>\n",
              "    .colab-df-container {\n",
              "      display:flex;\n",
              "      flex-wrap:wrap;\n",
              "      gap: 12px;\n",
              "    }\n",
              "\n",
              "    .colab-df-convert {\n",
              "      background-color: #E8F0FE;\n",
              "      border: none;\n",
              "      border-radius: 50%;\n",
              "      cursor: pointer;\n",
              "      display: none;\n",
              "      fill: #1967D2;\n",
              "      height: 32px;\n",
              "      padding: 0 0 0 0;\n",
              "      width: 32px;\n",
              "    }\n",
              "\n",
              "    .colab-df-convert:hover {\n",
              "      background-color: #E2EBFA;\n",
              "      box-shadow: 0px 1px 2px rgba(60, 64, 67, 0.3), 0px 1px 3px 1px rgba(60, 64, 67, 0.15);\n",
              "      fill: #174EA6;\n",
              "    }\n",
              "\n",
              "    [theme=dark] .colab-df-convert {\n",
              "      background-color: #3B4455;\n",
              "      fill: #D2E3FC;\n",
              "    }\n",
              "\n",
              "    [theme=dark] .colab-df-convert:hover {\n",
              "      background-color: #434B5C;\n",
              "      box-shadow: 0px 1px 3px 1px rgba(0, 0, 0, 0.15);\n",
              "      filter: drop-shadow(0px 1px 2px rgba(0, 0, 0, 0.3));\n",
              "      fill: #FFFFFF;\n",
              "    }\n",
              "  </style>\n",
              "\n",
              "      <script>\n",
              "        const buttonEl =\n",
              "          document.querySelector('#df-0373c6ee-ed18-49a5-851a-82c588932bc6 button.colab-df-convert');\n",
              "        buttonEl.style.display =\n",
              "          google.colab.kernel.accessAllowed ? 'block' : 'none';\n",
              "\n",
              "        async function convertToInteractive(key) {\n",
              "          const element = document.querySelector('#df-0373c6ee-ed18-49a5-851a-82c588932bc6');\n",
              "          const dataTable =\n",
              "            await google.colab.kernel.invokeFunction('convertToInteractive',\n",
              "                                                     [key], {});\n",
              "          if (!dataTable) return;\n",
              "\n",
              "          const docLinkHtml = 'Like what you see? Visit the ' +\n",
              "            '<a target=\"_blank\" href=https://colab.research.google.com/notebooks/data_table.ipynb>data table notebook</a>'\n",
              "            + ' to learn more about interactive tables.';\n",
              "          element.innerHTML = '';\n",
              "          dataTable['output_type'] = 'display_data';\n",
              "          await google.colab.output.renderOutput(dataTable, element);\n",
              "          const docLink = document.createElement('div');\n",
              "          docLink.innerHTML = docLinkHtml;\n",
              "          element.appendChild(docLink);\n",
              "        }\n",
              "      </script>\n",
              "    </div>\n",
              "  </div>\n",
              "  "
            ]
          },
          "metadata": {},
          "execution_count": 34
        }
      ]
    },
    {
      "cell_type": "code",
      "source": [
        "plt.figure(figsize = (10,7))\n",
        "sns.heatmap(data = corr, annot = True, linewidth = .5)"
      ],
      "metadata": {
        "colab": {
          "base_uri": "https://localhost:8080/",
          "height": 534
        },
        "id": "6pPzHaCFtkfk",
        "outputId": "663d61bb-e4c0-4e0a-a7ab-c932ed542775"
      },
      "execution_count": 41,
      "outputs": [
        {
          "output_type": "execute_result",
          "data": {
            "text/plain": [
              "<AxesSubplot:>"
            ]
          },
          "metadata": {},
          "execution_count": 41
        },
        {
          "output_type": "display_data",
          "data": {
            "text/plain": [
              "<Figure size 720x504 with 2 Axes>"
            ],
            "image/png": "[encoded data removed]"
          },
          "metadata": {
            "needs_background": "light"
          }
        }
      ]
    },
    {
      "cell_type": "markdown",
      "source": [
        "## Distances\n",
        "### Entre deux personnes\n",
        "#### Utilisation de la distance de Manhattan (pour les vecteurs)"
      ],
      "metadata": {
        "id": "xCZN8BGJnDA8"
      }
    },
    {
      "cell_type": "code",
      "source": [
        "def distance(prenom1, prenom2):\n",
        "  personne1 = got.loc[got['name'] == prenom1,('male', 'book1', 'book4', 'numDeadRelations', 'popularity')] # on cherche le 1er prénom\n",
        "  personne1 = personne1[['male', 'book1', 'book4', 'numDeadRelations', 'popularity']].values # on récupère les variables qui nous intéressent\n",
        "  personne2 = got.loc[got['name'] == prenom2,('male', 'book1', 'book4', 'numDeadRelations', 'popularity')] # on cherche le 2ème prénom\n",
        "  personne2 = personne2[['male', 'book1', 'book4', 'numDeadRelations', 'popularity']].values # on récupère les variables qui nous intéressent\n",
        "\n",
        "  return np.sqrt(np.sum((personne1 - personne2) ** 2)) # pour ne pas utiliser SciPy"
      ],
      "metadata": {
        "id": "YF6Ph48nq1Te"
      },
      "execution_count": null,
      "outputs": []
    },
    {
      "cell_type": "markdown",
      "source": [
        "#### Test avec exemple"
      ],
      "metadata": {
        "id": "K5oMS4fAhChk"
      }
    },
    {
      "cell_type": "code",
      "source": [
        "distance('Arya Stark', 'Tyrion Lannister')"
      ],
      "metadata": {
        "colab": {
          "base_uri": "https://localhost:8080/"
        },
        "id": "Ay6OZnzDNuLb",
        "outputId": "a76f9317-3b47-45f7-8ea1-4befae6030c6"
      },
      "execution_count": null,
      "outputs": [
        {
          "output_type": "execute_result",
          "data": {
            "text/plain": [
              "4.123105625617661"
            ]
          },
          "metadata": {},
          "execution_count": 9
        }
      ]
    },
    {
      "cell_type": "markdown",
      "source": [
        "### Entre une personne et les autres"
      ],
      "metadata": {
        "id": "606ruFu-rzl7"
      }
    },
    {
      "cell_type": "code",
      "source": [
        "def distanceall(prenom):\n",
        "  #distances = [] # liste des distances\n",
        "  distances = pd.DataFrame(columns = ['Prénom', 'Distance']) # on crée un tableau\n",
        "  for i in range(len(got)):\n",
        "    if got.iloc[i,0] != prenom : # on exclut la personne\n",
        "      prenom2 = got.iloc[i,0] # on récupère le 2ème prénom\n",
        "      dist = distance(prenom, prenom2) # on calcule la distance entre les deux \n",
        "      ligne = [prenom2, dist]\n",
        "      distances.loc[len(distances)] = ligne # on l'ajoute à notre tableau\n",
        "\n",
        "  distances.sort_values(by = ['Distance'], inplace = True) # on range le tableau par ordre croissant\n",
        "\n",
        "  return distances # on affiche la liste "
      ],
      "metadata": {
        "id": "gubkZPldW5b4"
      },
      "execution_count": null,
      "outputs": []
    },
    {
      "cell_type": "markdown",
      "source": [
        "#### Test avec exemple"
      ],
      "metadata": {
        "id": "8I3suSWjhIpK"
      }
    },
    {
      "cell_type": "code",
      "source": [
        "distanceall('Arya Stark')"
      ],
      "metadata": {
        "id": "pgfsHSO_Qne_"
      },
      "execution_count": null,
      "outputs": []
    },
    {
      "cell_type": "markdown",
      "source": [
        "## Prédiction\n",
        "### Fonction de prédiction"
      ],
      "metadata": {
        "id": "BkqUzo5fszW3"
      }
    },
    {
      "cell_type": "code",
      "source": [
        "def predict (prenom, k):\n",
        "  distances = distanceall(prenom) # on calcule sa distance avec tous les autres\n",
        "  distancesk = distances.head(k) # on affiche les k premiers\n",
        "  kAlive = 0\n",
        "  # On récupère les valeurs 'isAlive' des k plus proches voisins\n",
        "  for i in range(k):\n",
        "    prenomn = distancesk.iloc[i,0] # on récupère le prénom du k plus proche voisin\n",
        "    personne = got.loc[got['name'] == prenomn, ('isAlive')].values\n",
        "    kAlive += personne[0] # on augmente le compteur de voisin·es vivant·es\n",
        "  mid = math.ceil(k/2)\n",
        "  \n",
        "  # On récupère la vraie valeur de isAlive\n",
        "  alive = got.loc[got['name'] == prenom,'isAlive'] # on cherche le 1er prénom\n",
        "  # On classifie selon les valeurs 'isAlive' des k plus proches voisins\n",
        "  print(kAlive, \"de ses\", k, \"plus proches voisins sont vivants.\")\n",
        "  if kAlive >= mid:\n",
        "    print(\"Donc\", prenom, \"est probablement vivant·e.\")\n",
        "    if alive.values[0] == 1:\n",
        "      print(\"Ce qui est une bonne prédiction\")\n",
        "    else:\n",
        "      print(\"Ce qui est une mauvaise prédiction\")\n",
        "  else:\n",
        "    print(\"Donc\", prenom, \"est probablement mort·e.\")\n",
        "    if alive.values[0] == 0:\n",
        "      print(\"Ce qui est une bonne prédiction\")\n",
        "    else:\n",
        "      print(\"Ce qui est une mauvaise prédiction\")"
      ],
      "metadata": {
        "id": "h0WxuNKDRs5u"
      },
      "execution_count": null,
      "outputs": []
    },
    {
      "cell_type": "markdown",
      "source": [
        "#### Test avec exemple"
      ],
      "metadata": {
        "id": "bVRGoZeAMq-K"
      }
    },
    {
      "cell_type": "code",
      "source": [
        "predict('Arya Stark', 5)"
      ],
      "metadata": {
        "colab": {
          "base_uri": "https://localhost:8080/"
        },
        "id": "h7h7yzHzMzhy",
        "outputId": "20fd1816-863e-4811-ec74-1a1f28af692a"
      },
      "execution_count": null,
      "outputs": [
        {
          "output_type": "stream",
          "name": "stdout",
          "text": [
            "3 de ses 5 plus proches voisins sont vivants.\n",
            "Donc Arya Stark est probablement vivant·e.\n",
            "Ce qui est une bonne prédiction\n"
          ]
        }
      ]
    },
    {
      "cell_type": "markdown",
      "source": [
        "### Leave-one-out\n",
        "- Tester plusieurs pondérations\n",
        "- Tester pour chaque exemple \n",
        "- Mesurer taux de prédictions correctes (nb succès / nb exemple total)"
      ],
      "metadata": {
        "id": "lF_v8W_NcQta"
      }
    },
    {
      "cell_type": "markdown",
      "source": [
        "#### Entre deux personnes\n",
        "Avec les poids"
      ],
      "metadata": {
        "id": "Z-QOLdSFPYJ1"
      }
    },
    {
      "cell_type": "code",
      "source": [
        "def distancep(prenom1, prenom2, poids1, poids2, poids3, poids4, poids5):\n",
        "  personne1 = got.loc[got['name'] == 'Arya Stark',('male', 'book1', 'book4', 'numDeadRelations', 'popularity')] # on cherche le 1er prénom\n",
        "  personne1 = personne1[['male', 'book1', 'book4', 'numDeadRelations', 'popularity']].values # on récupère les variables qui nous intéressent\n",
        "  personne2 = got.loc[got['name'] == 'Tyrion Lannister',('male', 'book1', 'book4', 'numDeadRelations', 'popularity')] # on cherche le 2ème prénom\n",
        "  personne2 = personne2[['male', 'book1', 'book4', 'numDeadRelations', 'popularity']].values # on récupère les variables qui nous intéressent\n",
        "\n",
        "  dist = sqrt((personne2[0, 0] * poids1 - personne1[0, 0] * poids1)**2 + (personne2[0, 1] * poids2 - personne1[0, 1] * poids2)**2 + (personne2[0, 2] * poids3 - personne1[0, 2] * poids3)**2 + (personne2[0, 3] * poids4 - personne1[0, 3] * poids4)**2 + (personne2[0, 4] * poids5 - personne1[0, 4] * poids5)**2)\n",
        "  return dist # on calcule la distance pondérée"
      ],
      "metadata": {
        "id": "G9I1dTuazFu9"
      },
      "execution_count": null,
      "outputs": []
    },
    {
      "cell_type": "markdown",
      "source": [
        "Test avec deux exemples"
      ],
      "metadata": {
        "id": "G26T97MYNmnO"
      }
    },
    {
      "cell_type": "code",
      "source": [
        "distancep('Arya Stark', 'Tyrion Lannister', 0.2, 0.1, 0.1, 0.3, 0.3)"
      ],
      "metadata": {
        "colab": {
          "base_uri": "https://localhost:8080/"
        },
        "id": "u7qTTf95NoYv",
        "outputId": "3348f413-0a6d-4895-a26a-d4c2a011a808"
      },
      "execution_count": null,
      "outputs": [
        {
          "output_type": "execute_result",
          "data": {
            "text/plain": [
              "1.2165525060596436"
            ]
          },
          "metadata": {},
          "execution_count": 19
        }
      ]
    },
    {
      "cell_type": "markdown",
      "source": [
        "#### Entre une personne et les autres\n",
        "Avec les poids"
      ],
      "metadata": {
        "id": "OPLUGFcKPdVG"
      }
    },
    {
      "cell_type": "code",
      "source": [
        "def distanceallp(prenom, poids1, poids2, poids3, poids4, poids5):\n",
        "  #distances = [] # liste des distances\n",
        "  distances = pd.DataFrame(columns = ['Prénom', 'Distance']) # on crée un tableau\n",
        "\n",
        "  # On parcourt tout le tableau\n",
        "  for i in range(len(got)):\n",
        "    if got.iloc[i,0] != prenom: # on exclut la personne\n",
        "      prenom2 = got.iloc[i,0] # on récupère le 2ème prénom\n",
        "      dist = distancep(prenom, prenom2, poids1, poids2, poids3, poids4, poids5) # on calcule la distance entre les deux \n",
        "      ligne = [prenom2, dist]\n",
        "      distances.loc[len(distances)] = ligne # on l'ajoute à notre tableau\n",
        "\n",
        "  # On classe les distances\n",
        "  distances.sort_values(by = ['Distance'], inplace = True) # on range le tableau par ordre croissant\n",
        "  return distances # on affiche la liste "
      ],
      "metadata": {
        "id": "O9KXVw0uPoqz"
      },
      "execution_count": null,
      "outputs": []
    },
    {
      "cell_type": "markdown",
      "source": [
        "#### Essai sur tous"
      ],
      "metadata": {
        "id": "kTOqNAp5XSyv"
      }
    },
    {
      "cell_type": "code",
      "source": [
        "def predictp(k):\n",
        "  suc = 0 # nombres de bonnes prédictions\n",
        "\n",
        "  for i in range(len(got)): \n",
        "  #for i in range(10):  # test\n",
        "    prenom = got.iloc[i,0] # on récupère le prenom\n",
        "    poids1 = round(random.uniform(0, 1), 2) # on génère le 1er poids entre 0 et 1\n",
        "    poids2 = round(random.uniform(0, 1-poids1), 2) # on génère le 2ème poids entre 0 etle 1er\n",
        "    poids3 = round(random.uniform(0, 1-(poids2 + poids1)), 2) # on génère le 3ème poids entre 0 et les 2 autres\n",
        "    poids4 = round(random.uniform(0, 1-(poids3 + poids2 + poids1)), 2) # on génère le 4ème poids entre 0 et les 3 autres \n",
        "    poids5 = round(random.uniform(0, 1-(poids4 + poids3 + poids2 + poids1)), 2) # on génère le 5ème poids entre 0 et les 4 autres\n",
        "    distances = distanceallp(prenom, poids1, poids2, poids3, poids4, poids5) # on calcule sa distance avec tous les autres\n",
        "    distancesk = distances.head(k) # on affiche les k premiers\n",
        "    kAlive = 0\n",
        "\n",
        "    # On récupère la vraie valeur de isAlive\n",
        "    alive = got.loc[got['name'] == prenom,'isAlive'] # on cherche le 1er prénom\n",
        "\n",
        "    # On récupère les valeurs 'isAlive' des k plus proches voisins\n",
        "    for j in range(k):\n",
        "      prenomn = distancesk.iloc[j,0] # on récupère le prénom du k plus proche voisin\n",
        "      personne = got.loc[got['name'] == prenomn, ('isAlive')].values\n",
        "      kAlive += personne[0]\n",
        "    mid = math.ceil(k/2)\n",
        "    \n",
        "    # On classifie selon les valeurs 'isAlive' des k plus proches voisins\n",
        "    if kAlive >= mid:\n",
        "      if alive.values[0] == 1:\n",
        "        suc += 1\n",
        "    else:\n",
        "      if alive.values[0] == 0:\n",
        "        suc += 1\n",
        "  acc = suc / len(got)\n",
        "  #acc = suc / 10 # test\n",
        "  print(\"Avec\", k, \"voisins et les poids suivants :\", poids1,\"pour la variable 'male'\", poids2, \"pour la variable 'book1'\", poids3, \"pour la variable 'book4'\", poids4, \"pour la variable 'numDeadRelations'\", poids5, \"pour la variable 'popularity', on obtient une précision de\", acc)\n",
        "  return poids1, poids2, poids3, poids4, poids4, k, acc"
      ],
      "metadata": {
        "id": "r2eKI6dpYdhK"
      },
      "execution_count": null,
      "outputs": []
    },
    {
      "cell_type": "code",
      "source": [
        "predictp(5)"
      ],
      "metadata": {
        "id": "yLfCwtnyrkMG",
        "colab": {
          "base_uri": "https://localhost:8080/"
        },
        "outputId": "eadd62d4-690f-4b24-e8d7-1589e13ada72"
      },
      "execution_count": null,
      "outputs": [
        {
          "output_type": "stream",
          "name": "stdout",
          "text": [
            "Avec 5 voisins et les poids suivants : 0.49 pour la variable 'male' 0.43 pour la variable 'book1' 0.07 pour la variable 'book4' 0.01 pour la variable 'numDeadRelations' 0.0 pour la variable 'popularity', on obtient une précision de 0.9\n"
          ]
        },
        {
          "output_type": "execute_result",
          "data": {
            "text/plain": [
              "(0.49, 0.43, 0.07, 0.01, 0.01, 5, 0.9)"
            ]
          },
          "metadata": {},
          "execution_count": 24
        }
      ]
    },
    {
      "cell_type": "markdown",
      "source": [
        "## Export / Import\n",
        "Les paramètres vont maintenant être lus non plus dans votre code mais dans un fichier externe.\n",
        "Cela vous permettra de réaliser plusieurs simulations en allant à chaque fois lire les paramètres de la simulation dans ce fichier.\n",
        "Vous ferez également un fichier resultats.txt, dans lequel vous irez écrire les paramètres et le taux de succès de votre algorithme à chaque simulation. \n",
        "Ce fichier de paramètres peut être généré automatiquement par un autre script, ou par Excel."
      ],
      "metadata": {
        "id": "paSV3uCKddyK"
      }
    },
    {
      "cell_type": "markdown",
      "source": [
        "### Export \n",
        "#### Test de plusieurs paramètres"
      ],
      "metadata": {
        "id": "onNkxrbbu6Bn"
      }
    },
    {
      "cell_type": "code",
      "source": [
        "def predictpk(n, k):\n",
        "  for i in range(n): # on le fait n fois (change les pondérations à chaque fois)\n",
        "    predictp(k)\n",
        "    print(\"Avec\", k, \"voisins et les poids suivants:\", poids1,\"pour la variable 'male'\", poids2, \"pour la variable 'book1'\", poids3, \"pour la variable 'book4'\", poids4, \"pour la variable 'numDeadRelations'\", poids5, \"pour la variable 'popularity'\", \"on obtient une précision de\", acc)\n",
        "  \n",
        "    filename = \"resultats_essai\" + str(n) + \".txt\"\n",
        "    line = \"Avec \" + str(k) + \" voisins et les poids suivants : \" + str(poids1) + \" pour la variable 'male' \" + str(poids2) + \" pour la variable 'book1' \" + str(poids3) + \" pour la variable 'book4' \" + str(poids4) + \" pour la variable 'numDeadRelations' \" + str(poids5) + \" pour la variable 'popularity', on obtient une précision de \" + str(acc)\n",
        "    with openopen(filename, \"w\") as f:\n",
        "      f.write(line)"
      ],
      "metadata": {
        "id": "xXwxces7u9S9"
      },
      "execution_count": null,
      "outputs": []
    },
    {
      "cell_type": "markdown",
      "source": [
        "Test"
      ],
      "metadata": {
        "id": "RTMRWrt13Wtz"
      }
    },
    {
      "cell_type": "code",
      "source": [
        "predictpk(1,5)"
      ],
      "metadata": {
        "id": "aUjhjcJZcUDC"
      },
      "execution_count": null,
      "outputs": []
    },
    {
      "cell_type": "markdown",
      "source": [
        "### Import"
      ],
      "metadata": {
        "id": "WSLTyNNt3c-l"
      }
    },
    {
      "cell_type": "code",
      "source": [
        "param = pd.read_csv('https://raw.githubusercontent.com/astridgcn/Info/main/param.csv', header = None, sep= ';')"
      ],
      "metadata": {
        "id": "Zen4FbnE3Qcx"
      },
      "execution_count": null,
      "outputs": []
    },
    {
      "cell_type": "code",
      "source": [
        "def predictpimp(k, poids1, poids2, poids3, poids4, poids5):\n",
        "  suc = 0 # nombres de bonnes prédictions\n",
        "\n",
        "  for i in range(len(got)):\n",
        "  #for i in range(10):\n",
        "    prenom = got.iloc[i,0] # on récupère le prenom\n",
        "    distances = distanceallp(prenom, poids1, poids2, poids3, poids4, poids5) # on calcule sa distance avec tous les autres\n",
        "    distancesk = distances.head(k) # on affiche les k premiers\n",
        "    kAlive = 0\n",
        "\n",
        "    # On récupère la vraie valeur de isAlive\n",
        "    alive = got.loc[got['name'] == prenom,'isAlive'] # on cherche le 1er prénom\n",
        "\n",
        "    # On récupère les valeurs 'isAlive' des k plus proches voisins\n",
        "    for j in range(k):\n",
        "      prenomn = distancesk.iloc[j,0] # on récupère le prénom du k plus proche voisin\n",
        "      personne = got.loc[got['name'] == prenomn, ('isAlive')].values\n",
        "      kAlive += personne[0]\n",
        "    mid = math.ceil(k/2)\n",
        "    \n",
        "    # On classifie selon les valeurs 'isAlive' des k plus proches voisins\n",
        "    if kAlive >= mid:\n",
        "      if alive.values[0] == 1:\n",
        "        suc += 1\n",
        "    else:\n",
        "      if alive.values[0] == 0:\n",
        "        suc += 1\n",
        "  acc = suc / len(got)\n",
        "  #acc = suc / 10\n",
        "  print(\"Avec\", k, \"voisins et les poids suivants :\", poids1,\"pour la variable 'male'\", poids2, \"pour la variable 'book1'\", poids3, \"pour la variable 'book4'\", poids4, \"pour la variable 'numDeadRelations'\", poids5, \"pour la variable 'popularity', on obtient une précision de\", acc)\n",
        "  return poids1, poids2, poids3, poids4, poids4, k, acc"
      ],
      "metadata": {
        "id": "N9aZhFVn4MpJ"
      },
      "execution_count": null,
      "outputs": []
    },
    {
      "cell_type": "code",
      "source": [
        "predictpimp(param.iloc[0,0], param.iloc[0,1], param.iloc[0,2], param.iloc[0,3], param.iloc[0,4], param.iloc[0,5])"
      ],
      "metadata": {
        "id": "nd-EKoGk6-Ks"
      },
      "execution_count": null,
      "outputs": []
    }
  ]
}